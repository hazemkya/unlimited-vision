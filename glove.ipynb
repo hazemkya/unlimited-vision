{
 "cells": [
  {
   "cell_type": "code",
   "execution_count": null,
   "metadata": {},
   "outputs": [],
   "source": [
    "import csv\n",
    "\n",
    "from collections import Counter\n",
    "from sklearn.feature_extraction.text import CountVectorizer\n",
    "import re\n",
    "\n",
    "# You'll generate plots of attention in order to see which parts of an image\n",
    "# your model focuses on during captioning\n",
    "\n",
    "import numpy as np\n",
    "import configparser\n",
    "\n",
    "config = configparser.ConfigParser()\n",
    "config.read(\"config.ini\")\n",
    "\n",
    "#importing local module \n",
    "from models.subclasses import *\n",
    "from models.utilities import *\n",
    "from models.train_utils import *\n",
    "from models.predict import *"
   ]
  },
  {
   "cell_type": "code",
   "execution_count": null,
   "metadata": {},
   "outputs": [],
   "source": [
    "# Train sample size (-1 for max) \n",
    "# can't exceed 118286 sample\n",
    "sample = int(config['config']['train_sample'])\n",
    "\n",
    "#train split percentage 80-20\n",
    "percentage = float(config['config']['percentage'])\n",
    "\n",
    "# Max word count for a caption.\n",
    "max_length = int(config['config']['max_length'])\n",
    "# Use the top words for a vocabulary.\n",
    "vocabulary_size = int(config['config']['vocabulary_size'])\n",
    "use_glove = bool(config['config']['use_glove'])\n",
    "\n",
    "glove_dim = int(config['config']['glove_dim'])\n",
    "glove_path = f\"./dataset/glove.6B/glove.6B.{glove_dim}d.txt\""
   ]
  },
  {
   "cell_type": "code",
   "execution_count": null,
   "metadata": {},
   "outputs": [],
   "source": [
    "train_image_paths, image_path_to_caption = import_files(shuffle= False, method = \"train\")"
   ]
  },
  {
   "cell_type": "code",
   "execution_count": null,
   "metadata": {},
   "outputs": [],
   "source": [
    "train_captions = []\n",
    "img_name_vector = []\n",
    "for image_path in train_image_paths:\n",
    "  caption_list = image_path_to_caption[image_path]\n",
    "  train_captions.extend(caption_list)\n",
    "  img_name_vector.extend([image_path] * len(caption_list))"
   ]
  },
  {
   "cell_type": "code",
   "execution_count": null,
   "metadata": {},
   "outputs": [],
   "source": [
    "word_to_index, index_to_word, tokenizer, cap_vector = tokenization(train_captions, max_length, vocabulary_size)"
   ]
  },
  {
   "cell_type": "code",
   "execution_count": null,
   "metadata": {},
   "outputs": [],
   "source": [
    "def glove2dict(glove_filename):\n",
    "    with open(glove_filename, encoding='utf-8') as f:\n",
    "        reader = csv.reader(f, delimiter=' ',quoting=csv.QUOTE_NONE)\n",
    "        embed = {line[0]: np.array(list(map(float, line[1:])))\n",
    "                for line in reader}\n",
    "    return embed"
   ]
  },
  {
   "cell_type": "code",
   "execution_count": null,
   "metadata": {},
   "outputs": [],
   "source": [
    "pre_glove = glove2dict(glove_path)\n",
    "embeddings_index = pre_glove"
   ]
  },
  {
   "cell_type": "code",
   "execution_count": null,
   "metadata": {},
   "outputs": [],
   "source": [
    "total_words = []\n",
    "for sentence in train_captions:\n",
    "    sentence = re.sub(r\"[!\\\"#$%&\\(\\)\\*\\+.,-/:;=?@\\[\\\\\\]^_`{|}~]\", \"\", sentence)\n",
    "    sentence = sentence.split()[1:-1]\n",
    "    for word in sentence:\n",
    "        total_words.append(word)\n",
    "    total_words.append(\".\")\n",
    "print(len(total_words))"
   ]
  },
  {
   "cell_type": "code",
   "execution_count": null,
   "metadata": {},
   "outputs": [],
   "source": [
    "vocabulary = tokenizer.get_vocabulary()\n",
    "word_index = dict(zip(vocabulary, range(len(vocabulary))))"
   ]
  },
  {
   "cell_type": "code",
   "execution_count": null,
   "metadata": {},
   "outputs": [],
   "source": [
    "# sw = list(stopwords.words('english'))\n",
    "# brown_data = brown.words()[:2000]\n",
    "# brown_nonstop = [token.lower() for token in brown_data if (token.lower() not in sw)]\n",
    "# oov = [token for token in brown_nonstop if token not in pre_glove.keys()]\n",
    "total_words_nonstop = [token.lower() for token in total_words]\n",
    "oov = [token for token in total_words_nonstop if token not in pre_glove.keys()]"
   ]
  },
  {
   "cell_type": "code",
   "execution_count": null,
   "metadata": {},
   "outputs": [],
   "source": [
    "len(oov)"
   ]
  },
  {
   "cell_type": "code",
   "execution_count": null,
   "metadata": {},
   "outputs": [],
   "source": [
    "def get_rareoov(xdict, val):\n",
    "    return [k for (k,v) in Counter(xdict).items() if v<=val]\n",
    "    \n",
    "oov_rare = get_rareoov(oov, 1)\n",
    "corp_vocab = list(set(oov) - set(oov_rare))"
   ]
  },
  {
   "cell_type": "code",
   "execution_count": null,
   "metadata": {},
   "outputs": [],
   "source": [
    "len(corp_vocab)"
   ]
  },
  {
   "cell_type": "code",
   "execution_count": 75,
   "metadata": {},
   "outputs": [],
   "source": [
    "max_Vocab = corp_vocab.copy()\n",
    "max_words_lenght = len(max_Vocab)\n",
    "for k,v in embeddings_index.items():\n",
    "    if max_words_lenght >= vocabulary_size:\n",
    "        break\n",
    "    if k not in corp_vocab and k not in oov_rare:\n",
    "        max_Vocab.append(k)\n",
    "        max_words_lenght +=1"
   ]
  },
  {
   "cell_type": "code",
   "execution_count": 76,
   "metadata": {},
   "outputs": [
    {
     "data": {
      "text/plain": [
       "20000"
      ]
     },
     "execution_count": 76,
     "metadata": {},
     "output_type": "execute_result"
    }
   ],
   "source": [
    "len(max_Vocab)"
   ]
  },
  {
   "cell_type": "code",
   "execution_count": 77,
   "metadata": {},
   "outputs": [
    {
     "data": {
      "text/plain": [
       "1582"
      ]
     },
     "execution_count": 77,
     "metadata": {},
     "output_type": "execute_result"
    }
   ],
   "source": [
    "len(corp_vocab)"
   ]
  },
  {
   "cell_type": "code",
   "execution_count": 78,
   "metadata": {},
   "outputs": [],
   "source": [
    "new_tokens = [token for token in total_words_nonstop if token not in oov_rare]\n",
    "new_tokens2 = list(set(new_tokens)  set(oov_rare))\n",
    "new_doc = [' '.join(new_tokens)]\n",
    "# corp_vocab = list(set(oov))"
   ]
  },
  {
   "cell_type": "code",
   "execution_count": 79,
   "metadata": {},
   "outputs": [],
   "source": [
    "cv = CountVectorizer(ngram_range=(1,1), vocabulary=max_Vocab)\n",
    "X = cv.fit_transform(new_doc)\n",
    "Xc = (X.T * X)\n",
    "Xc.setdiag(0)\n",
    "coocc_ar = Xc.toarray()"
   ]
  },
  {
   "cell_type": "code",
   "execution_count": null,
   "metadata": {},
   "outputs": [],
   "source": [
    "coocc_ar.shape"
   ]
  },
  {
   "cell_type": "code",
   "execution_count": 80,
   "metadata": {},
   "outputs": [
    {
     "name": "stderr",
     "output_type": "stream",
     "text": [
      "c:\\Users\\hazem\\anaconda3\\envs\\uvapp\\lib\\site-packages\\tensorflow\\python\\client\\session.py:1771: UserWarning: An interactive session is already active. This can cause out-of-memory errors in some cases. You must explicitly call `InteractiveSession.close()` to release resources held by the other session(s).\n",
      "  warnings.warn('An interactive session is already active. This can '\n"
     ]
    },
    {
     "ename": "ResourceExhaustedError",
     "evalue": "2 root error(s) found.\n  (0) RESOURCE_EXHAUSTED: OOM when allocating tensor with shape[20000,20000] and type float on /job:localhost/replica:0/task:0/device:GPU:0 by allocator GPU_0_bfc\n\t [[node Tensordot/MatMul\n (defined at c:\\Users\\hazem\\anaconda3\\envs\\uvapp\\lib\\site-packages\\mittens\\tf_mittens.py:150)\n]]\nHint: If you want to see a list of allocated tensors when OOM happens, add report_tensor_allocations_upon_oom to RunOptions for current allocation info. This isn't available when running in Eager mode.\n\n\t [[add_3/_5]]\nHint: If you want to see a list of allocated tensors when OOM happens, add report_tensor_allocations_upon_oom to RunOptions for current allocation info. This isn't available when running in Eager mode.\n\n  (1) RESOURCE_EXHAUSTED: OOM when allocating tensor with shape[20000,20000] and type float on /job:localhost/replica:0/task:0/device:GPU:0 by allocator GPU_0_bfc\n\t [[node Tensordot/MatMul\n (defined at c:\\Users\\hazem\\anaconda3\\envs\\uvapp\\lib\\site-packages\\mittens\\tf_mittens.py:150)\n]]\nHint: If you want to see a list of allocated tensors when OOM happens, add report_tensor_allocations_upon_oom to RunOptions for current allocation info. This isn't available when running in Eager mode.\n\n0 successful operations.\n0 derived errors ignored.\n\nErrors may have originated from an input operation.\nInput Source operations connected to node Tensordot/MatMul:\nIn[0] Tensordot/ReadVariableOp:\t\nIn[1] transpose:\n\nOperation defined at: (most recent call last)\n>>>   File \"c:\\Users\\hazem\\anaconda3\\envs\\uvapp\\lib\\runpy.py\", line 197, in _run_module_as_main\n>>>     return _run_code(code, main_globals, None,\n>>> \n>>>   File \"c:\\Users\\hazem\\anaconda3\\envs\\uvapp\\lib\\runpy.py\", line 87, in _run_code\n>>>     exec(code, run_globals)\n>>> \n>>>   File \"c:\\Users\\hazem\\anaconda3\\envs\\uvapp\\lib\\site-packages\\ipykernel_launcher.py\", line 16, in <module>\n>>>     app.launch_new_instance()\n>>> \n>>>   File \"c:\\Users\\hazem\\anaconda3\\envs\\uvapp\\lib\\site-packages\\traitlets\\config\\application.py\", line 846, in launch_instance\n>>>     app.start()\n>>> \n>>>   File \"c:\\Users\\hazem\\anaconda3\\envs\\uvapp\\lib\\site-packages\\ipykernel\\kernelapp.py\", line 677, in start\n>>>     self.io_loop.start()\n>>> \n>>>   File \"c:\\Users\\hazem\\anaconda3\\envs\\uvapp\\lib\\site-packages\\tornado\\platform\\asyncio.py\", line 199, in start\n>>>     self.asyncio_loop.run_forever()\n>>> \n>>>   File \"c:\\Users\\hazem\\anaconda3\\envs\\uvapp\\lib\\asyncio\\base_events.py\", line 601, in run_forever\n>>>     self._run_once()\n>>> \n>>>   File \"c:\\Users\\hazem\\anaconda3\\envs\\uvapp\\lib\\asyncio\\base_events.py\", line 1905, in _run_once\n>>>     handle._run()\n>>> \n>>>   File \"c:\\Users\\hazem\\anaconda3\\envs\\uvapp\\lib\\asyncio\\events.py\", line 80, in _run\n>>>     self._context.run(self._callback, *self._args)\n>>> \n>>>   File \"c:\\Users\\hazem\\anaconda3\\envs\\uvapp\\lib\\site-packages\\ipykernel\\kernelbase.py\", line 471, in dispatch_queue\n>>>     await self.process_one()\n>>> \n>>>   File \"c:\\Users\\hazem\\anaconda3\\envs\\uvapp\\lib\\site-packages\\ipykernel\\kernelbase.py\", line 460, in process_one\n>>>     await dispatch(*args)\n>>> \n>>>   File \"c:\\Users\\hazem\\anaconda3\\envs\\uvapp\\lib\\site-packages\\ipykernel\\kernelbase.py\", line 367, in dispatch_shell\n>>>     await result\n>>> \n>>>   File \"c:\\Users\\hazem\\anaconda3\\envs\\uvapp\\lib\\site-packages\\ipykernel\\kernelbase.py\", line 662, in execute_request\n>>>     reply_content = await reply_content\n>>> \n>>>   File \"c:\\Users\\hazem\\anaconda3\\envs\\uvapp\\lib\\site-packages\\ipykernel\\ipkernel.py\", line 360, in do_execute\n>>>     res = shell.run_cell(code, store_history=store_history, silent=silent)\n>>> \n>>>   File \"c:\\Users\\hazem\\anaconda3\\envs\\uvapp\\lib\\site-packages\\ipykernel\\zmqshell.py\", line 532, in run_cell\n>>>     return super().run_cell(*args, **kwargs)\n>>> \n>>>   File \"c:\\Users\\hazem\\anaconda3\\envs\\uvapp\\lib\\site-packages\\IPython\\core\\interactiveshell.py\", line 2863, in run_cell\n>>>     result = self._run_cell(\n>>> \n>>>   File \"c:\\Users\\hazem\\anaconda3\\envs\\uvapp\\lib\\site-packages\\IPython\\core\\interactiveshell.py\", line 2909, in _run_cell\n>>>     return runner(coro)\n>>> \n>>>   File \"c:\\Users\\hazem\\anaconda3\\envs\\uvapp\\lib\\site-packages\\IPython\\core\\async_helpers.py\", line 129, in _pseudo_sync_runner\n>>>     coro.send(None)\n>>> \n>>>   File \"c:\\Users\\hazem\\anaconda3\\envs\\uvapp\\lib\\site-packages\\IPython\\core\\interactiveshell.py\", line 3106, in run_cell_async\n>>>     has_raised = await self.run_ast_nodes(code_ast.body, cell_name,\n>>> \n>>>   File \"c:\\Users\\hazem\\anaconda3\\envs\\uvapp\\lib\\site-packages\\IPython\\core\\interactiveshell.py\", line 3309, in run_ast_nodes\n>>>     if await self.run_code(code, result, async_=asy):\n>>> \n>>>   File \"c:\\Users\\hazem\\anaconda3\\envs\\uvapp\\lib\\site-packages\\IPython\\core\\interactiveshell.py\", line 3369, in run_code\n>>>     exec(code_obj, self.user_global_ns, self.user_ns)\n>>> \n>>>   File \"C:\\Users\\hazem\\AppData\\Local\\Temp\\ipykernel_3756\\2191877791.py\", line 4, in <cell line: 4>\n>>>     new_embeddings = mittens_model.fit(\n>>> \n>>>   File \"c:\\Users\\hazem\\anaconda3\\envs\\uvapp\\lib\\site-packages\\mittens\\mittens_base.py\", line 81, in fit\n>>>     return self._fit(X, weights, log_coincidence,\n>>> \n>>>   File \"c:\\Users\\hazem\\anaconda3\\envs\\uvapp\\lib\\site-packages\\mittens\\tf_mittens.py\", line 56, in _fit\n>>>     self._build_graph(vocab, initial_embedding_dict)\n>>> \n>>>   File \"c:\\Users\\hazem\\anaconda3\\envs\\uvapp\\lib\\site-packages\\mittens\\tf_mittens.py\", line 150, in _build_graph\n>>>     self.model = tf.tensordot(self.W, tf.transpose(self.C), axes=1) + \\\n>>> \n\nInput Source operations connected to node Tensordot/MatMul:\nIn[0] Tensordot/ReadVariableOp:\t\nIn[1] transpose:\n\nOperation defined at: (most recent call last)\n>>>   File \"c:\\Users\\hazem\\anaconda3\\envs\\uvapp\\lib\\runpy.py\", line 197, in _run_module_as_main\n>>>     return _run_code(code, main_globals, None,\n>>> \n>>>   File \"c:\\Users\\hazem\\anaconda3\\envs\\uvapp\\lib\\runpy.py\", line 87, in _run_code\n>>>     exec(code, run_globals)\n>>> \n>>>   File \"c:\\Users\\hazem\\anaconda3\\envs\\uvapp\\lib\\site-packages\\ipykernel_launcher.py\", line 16, in <module>\n>>>     app.launch_new_instance()\n>>> \n>>>   File \"c:\\Users\\hazem\\anaconda3\\envs\\uvapp\\lib\\site-packages\\traitlets\\config\\application.py\", line 846, in launch_instance\n>>>     app.start()\n>>> \n>>>   File \"c:\\Users\\hazem\\anaconda3\\envs\\uvapp\\lib\\site-packages\\ipykernel\\kernelapp.py\", line 677, in start\n>>>     self.io_loop.start()\n>>> \n>>>   File \"c:\\Users\\hazem\\anaconda3\\envs\\uvapp\\lib\\site-packages\\tornado\\platform\\asyncio.py\", line 199, in start\n>>>     self.asyncio_loop.run_forever()\n>>> \n>>>   File \"c:\\Users\\hazem\\anaconda3\\envs\\uvapp\\lib\\asyncio\\base_events.py\", line 601, in run_forever\n>>>     self._run_once()\n>>> \n>>>   File \"c:\\Users\\hazem\\anaconda3\\envs\\uvapp\\lib\\asyncio\\base_events.py\", line 1905, in _run_once\n>>>     handle._run()\n>>> \n>>>   File \"c:\\Users\\hazem\\anaconda3\\envs\\uvapp\\lib\\asyncio\\events.py\", line 80, in _run\n>>>     self._context.run(self._callback, *self._args)\n>>> \n>>>   File \"c:\\Users\\hazem\\anaconda3\\envs\\uvapp\\lib\\site-packages\\ipykernel\\kernelbase.py\", line 471, in dispatch_queue\n>>>     await self.process_one()\n>>> \n>>>   File \"c:\\Users\\hazem\\anaconda3\\envs\\uvapp\\lib\\site-packages\\ipykernel\\kernelbase.py\", line 460, in process_one\n>>>     await dispatch(*args)\n>>> \n>>>   File \"c:\\Users\\hazem\\anaconda3\\envs\\uvapp\\lib\\site-packages\\ipykernel\\kernelbase.py\", line 367, in dispatch_shell\n>>>     await result\n>>> \n>>>   File \"c:\\Users\\hazem\\anaconda3\\envs\\uvapp\\lib\\site-packages\\ipykernel\\kernelbase.py\", line 662, in execute_request\n>>>     reply_content = await reply_content\n>>> \n>>>   File \"c:\\Users\\hazem\\anaconda3\\envs\\uvapp\\lib\\site-packages\\ipykernel\\ipkernel.py\", line 360, in do_execute\n>>>     res = shell.run_cell(code, store_history=store_history, silent=silent)\n>>> \n>>>   File \"c:\\Users\\hazem\\anaconda3\\envs\\uvapp\\lib\\site-packages\\ipykernel\\zmqshell.py\", line 532, in run_cell\n>>>     return super().run_cell(*args, **kwargs)\n>>> \n>>>   File \"c:\\Users\\hazem\\anaconda3\\envs\\uvapp\\lib\\site-packages\\IPython\\core\\interactiveshell.py\", line 2863, in run_cell\n>>>     result = self._run_cell(\n>>> \n>>>   File \"c:\\Users\\hazem\\anaconda3\\envs\\uvapp\\lib\\site-packages\\IPython\\core\\interactiveshell.py\", line 2909, in _run_cell\n>>>     return runner(coro)\n>>> \n>>>   File \"c:\\Users\\hazem\\anaconda3\\envs\\uvapp\\lib\\site-packages\\IPython\\core\\async_helpers.py\", line 129, in _pseudo_sync_runner\n>>>     coro.send(None)\n>>> \n>>>   File \"c:\\Users\\hazem\\anaconda3\\envs\\uvapp\\lib\\site-packages\\IPython\\core\\interactiveshell.py\", line 3106, in run_cell_async\n>>>     has_raised = await self.run_ast_nodes(code_ast.body, cell_name,\n>>> \n>>>   File \"c:\\Users\\hazem\\anaconda3\\envs\\uvapp\\lib\\site-packages\\IPython\\core\\interactiveshell.py\", line 3309, in run_ast_nodes\n>>>     if await self.run_code(code, result, async_=asy):\n>>> \n>>>   File \"c:\\Users\\hazem\\anaconda3\\envs\\uvapp\\lib\\site-packages\\IPython\\core\\interactiveshell.py\", line 3369, in run_code\n>>>     exec(code_obj, self.user_global_ns, self.user_ns)\n>>> \n>>>   File \"C:\\Users\\hazem\\AppData\\Local\\Temp\\ipykernel_3756\\2191877791.py\", line 4, in <cell line: 4>\n>>>     new_embeddings = mittens_model.fit(\n>>> \n>>>   File \"c:\\Users\\hazem\\anaconda3\\envs\\uvapp\\lib\\site-packages\\mittens\\mittens_base.py\", line 81, in fit\n>>>     return self._fit(X, weights, log_coincidence,\n>>> \n>>>   File \"c:\\Users\\hazem\\anaconda3\\envs\\uvapp\\lib\\site-packages\\mittens\\tf_mittens.py\", line 56, in _fit\n>>>     self._build_graph(vocab, initial_embedding_dict)\n>>> \n>>>   File \"c:\\Users\\hazem\\anaconda3\\envs\\uvapp\\lib\\site-packages\\mittens\\tf_mittens.py\", line 150, in _build_graph\n>>>     self.model = tf.tensordot(self.W, tf.transpose(self.C), axes=1) + \\\n>>> \n\nOriginal stack trace for 'Tensordot/MatMul':\n  File \"c:\\Users\\hazem\\anaconda3\\envs\\uvapp\\lib\\runpy.py\", line 197, in _run_module_as_main\n    return _run_code(code, main_globals, None,\n  File \"c:\\Users\\hazem\\anaconda3\\envs\\uvapp\\lib\\runpy.py\", line 87, in _run_code\n    exec(code, run_globals)\n  File \"c:\\Users\\hazem\\anaconda3\\envs\\uvapp\\lib\\site-packages\\ipykernel_launcher.py\", line 16, in <module>\n    app.launch_new_instance()\n  File \"c:\\Users\\hazem\\anaconda3\\envs\\uvapp\\lib\\site-packages\\traitlets\\config\\application.py\", line 846, in launch_instance\n    app.start()\n  File \"c:\\Users\\hazem\\anaconda3\\envs\\uvapp\\lib\\site-packages\\ipykernel\\kernelapp.py\", line 677, in start\n    self.io_loop.start()\n  File \"c:\\Users\\hazem\\anaconda3\\envs\\uvapp\\lib\\site-packages\\tornado\\platform\\asyncio.py\", line 199, in start\n    self.asyncio_loop.run_forever()\n  File \"c:\\Users\\hazem\\anaconda3\\envs\\uvapp\\lib\\asyncio\\base_events.py\", line 601, in run_forever\n    self._run_once()\n  File \"c:\\Users\\hazem\\anaconda3\\envs\\uvapp\\lib\\asyncio\\base_events.py\", line 1905, in _run_once\n    handle._run()\n  File \"c:\\Users\\hazem\\anaconda3\\envs\\uvapp\\lib\\asyncio\\events.py\", line 80, in _run\n    self._context.run(self._callback, *self._args)\n  File \"c:\\Users\\hazem\\anaconda3\\envs\\uvapp\\lib\\site-packages\\ipykernel\\kernelbase.py\", line 471, in dispatch_queue\n    await self.process_one()\n  File \"c:\\Users\\hazem\\anaconda3\\envs\\uvapp\\lib\\site-packages\\ipykernel\\kernelbase.py\", line 460, in process_one\n    await dispatch(*args)\n  File \"c:\\Users\\hazem\\anaconda3\\envs\\uvapp\\lib\\site-packages\\ipykernel\\kernelbase.py\", line 367, in dispatch_shell\n    await result\n  File \"c:\\Users\\hazem\\anaconda3\\envs\\uvapp\\lib\\site-packages\\ipykernel\\kernelbase.py\", line 662, in execute_request\n    reply_content = await reply_content\n  File \"c:\\Users\\hazem\\anaconda3\\envs\\uvapp\\lib\\site-packages\\ipykernel\\ipkernel.py\", line 360, in do_execute\n    res = shell.run_cell(code, store_history=store_history, silent=silent)\n  File \"c:\\Users\\hazem\\anaconda3\\envs\\uvapp\\lib\\site-packages\\ipykernel\\zmqshell.py\", line 532, in run_cell\n    return super().run_cell(*args, **kwargs)\n  File \"c:\\Users\\hazem\\anaconda3\\envs\\uvapp\\lib\\site-packages\\IPython\\core\\interactiveshell.py\", line 2863, in run_cell\n    result = self._run_cell(\n  File \"c:\\Users\\hazem\\anaconda3\\envs\\uvapp\\lib\\site-packages\\IPython\\core\\interactiveshell.py\", line 2909, in _run_cell\n    return runner(coro)\n  File \"c:\\Users\\hazem\\anaconda3\\envs\\uvapp\\lib\\site-packages\\IPython\\core\\async_helpers.py\", line 129, in _pseudo_sync_runner\n    coro.send(None)\n  File \"c:\\Users\\hazem\\anaconda3\\envs\\uvapp\\lib\\site-packages\\IPython\\core\\interactiveshell.py\", line 3106, in run_cell_async\n    has_raised = await self.run_ast_nodes(code_ast.body, cell_name,\n  File \"c:\\Users\\hazem\\anaconda3\\envs\\uvapp\\lib\\site-packages\\IPython\\core\\interactiveshell.py\", line 3309, in run_ast_nodes\n    if await self.run_code(code, result, async_=asy):\n  File \"c:\\Users\\hazem\\anaconda3\\envs\\uvapp\\lib\\site-packages\\IPython\\core\\interactiveshell.py\", line 3369, in run_code\n    exec(code_obj, self.user_global_ns, self.user_ns)\n  File \"C:\\Users\\hazem\\AppData\\Local\\Temp\\ipykernel_3756\\2191877791.py\", line 4, in <cell line: 4>\n    new_embeddings = mittens_model.fit(\n  File \"c:\\Users\\hazem\\anaconda3\\envs\\uvapp\\lib\\site-packages\\mittens\\mittens_base.py\", line 81, in fit\n    return self._fit(X, weights, log_coincidence,\n  File \"c:\\Users\\hazem\\anaconda3\\envs\\uvapp\\lib\\site-packages\\mittens\\tf_mittens.py\", line 56, in _fit\n    self._build_graph(vocab, initial_embedding_dict)\n  File \"c:\\Users\\hazem\\anaconda3\\envs\\uvapp\\lib\\site-packages\\mittens\\tf_mittens.py\", line 150, in _build_graph\n    self.model = tf.tensordot(self.W, tf.transpose(self.C), axes=1) + \\\n  File \"c:\\Users\\hazem\\anaconda3\\envs\\uvapp\\lib\\site-packages\\tensorflow\\python\\util\\traceback_utils.py\", line 150, in error_handler\n    return fn(*args, **kwargs)\n  File \"c:\\Users\\hazem\\anaconda3\\envs\\uvapp\\lib\\site-packages\\tensorflow\\python\\util\\dispatch.py\", line 1096, in op_dispatch_handler\n    return dispatch_target(*args, **kwargs)\n  File \"c:\\Users\\hazem\\anaconda3\\envs\\uvapp\\lib\\site-packages\\tensorflow\\python\\ops\\math_ops.py\", line 5089, in tensordot\n    ab_matmul = matmul(a_reshape, b_reshape)\n  File \"c:\\Users\\hazem\\anaconda3\\envs\\uvapp\\lib\\site-packages\\tensorflow\\python\\util\\traceback_utils.py\", line 150, in error_handler\n    return fn(*args, **kwargs)\n  File \"c:\\Users\\hazem\\anaconda3\\envs\\uvapp\\lib\\site-packages\\tensorflow\\python\\util\\dispatch.py\", line 1096, in op_dispatch_handler\n    return dispatch_target(*args, **kwargs)\n  File \"c:\\Users\\hazem\\anaconda3\\envs\\uvapp\\lib\\site-packages\\tensorflow\\python\\ops\\math_ops.py\", line 3700, in matmul\n    return gen_math_ops.mat_mul(\n  File \"c:\\Users\\hazem\\anaconda3\\envs\\uvapp\\lib\\site-packages\\tensorflow\\python\\ops\\gen_math_ops.py\", line 6033, in mat_mul\n    _, _, _op, _outputs = _op_def_library._apply_op_helper(\n  File \"c:\\Users\\hazem\\anaconda3\\envs\\uvapp\\lib\\site-packages\\tensorflow\\python\\framework\\op_def_library.py\", line 744, in _apply_op_helper\n    op = g._create_op_internal(op_type_name, inputs, dtypes=None,\n  File \"c:\\Users\\hazem\\anaconda3\\envs\\uvapp\\lib\\site-packages\\tensorflow\\python\\framework\\ops.py\", line 3697, in _create_op_internal\n    ret = Operation(\n  File \"c:\\Users\\hazem\\anaconda3\\envs\\uvapp\\lib\\site-packages\\tensorflow\\python\\framework\\ops.py\", line 2101, in __init__\n    self._traceback = tf_stack.extract_stack_for_node(self._c_op)\n",
     "output_type": "error",
     "traceback": [
      "\u001b[1;31m---------------------------------------------------------------------------\u001b[0m",
      "\u001b[1;31mResourceExhaustedError\u001b[0m                    Traceback (most recent call last)",
      "File \u001b[1;32mc:\\Users\\hazem\\anaconda3\\envs\\uvapp\\lib\\site-packages\\tensorflow\\python\\client\\session.py:1380\u001b[0m, in \u001b[0;36mBaseSession._do_call\u001b[1;34m(self, fn, *args)\u001b[0m\n\u001b[0;32m   <a href='file:///c%3A/Users/hazem/anaconda3/envs/uvapp/lib/site-packages/tensorflow/python/client/session.py?line=1378'>1379</a>\u001b[0m \u001b[39mtry\u001b[39;00m:\n\u001b[1;32m-> <a href='file:///c%3A/Users/hazem/anaconda3/envs/uvapp/lib/site-packages/tensorflow/python/client/session.py?line=1379'>1380</a>\u001b[0m   \u001b[39mreturn\u001b[39;00m fn(\u001b[39m*\u001b[39;49margs)\n\u001b[0;32m   <a href='file:///c%3A/Users/hazem/anaconda3/envs/uvapp/lib/site-packages/tensorflow/python/client/session.py?line=1380'>1381</a>\u001b[0m \u001b[39mexcept\u001b[39;00m errors\u001b[39m.\u001b[39mOpError \u001b[39mas\u001b[39;00m e:\n",
      "File \u001b[1;32mc:\\Users\\hazem\\anaconda3\\envs\\uvapp\\lib\\site-packages\\tensorflow\\python\\client\\session.py:1363\u001b[0m, in \u001b[0;36mBaseSession._do_run.<locals>._run_fn\u001b[1;34m(feed_dict, fetch_list, target_list, options, run_metadata)\u001b[0m\n\u001b[0;32m   <a href='file:///c%3A/Users/hazem/anaconda3/envs/uvapp/lib/site-packages/tensorflow/python/client/session.py?line=1361'>1362</a>\u001b[0m \u001b[39mself\u001b[39m\u001b[39m.\u001b[39m_extend_graph()\n\u001b[1;32m-> <a href='file:///c%3A/Users/hazem/anaconda3/envs/uvapp/lib/site-packages/tensorflow/python/client/session.py?line=1362'>1363</a>\u001b[0m \u001b[39mreturn\u001b[39;00m \u001b[39mself\u001b[39;49m\u001b[39m.\u001b[39;49m_call_tf_sessionrun(options, feed_dict, fetch_list,\n\u001b[0;32m   <a href='file:///c%3A/Users/hazem/anaconda3/envs/uvapp/lib/site-packages/tensorflow/python/client/session.py?line=1363'>1364</a>\u001b[0m                                 target_list, run_metadata)\n",
      "File \u001b[1;32mc:\\Users\\hazem\\anaconda3\\envs\\uvapp\\lib\\site-packages\\tensorflow\\python\\client\\session.py:1456\u001b[0m, in \u001b[0;36mBaseSession._call_tf_sessionrun\u001b[1;34m(self, options, feed_dict, fetch_list, target_list, run_metadata)\u001b[0m\n\u001b[0;32m   <a href='file:///c%3A/Users/hazem/anaconda3/envs/uvapp/lib/site-packages/tensorflow/python/client/session.py?line=1453'>1454</a>\u001b[0m \u001b[39mdef\u001b[39;00m \u001b[39m_call_tf_sessionrun\u001b[39m(\u001b[39mself\u001b[39m, options, feed_dict, fetch_list, target_list,\n\u001b[0;32m   <a href='file:///c%3A/Users/hazem/anaconda3/envs/uvapp/lib/site-packages/tensorflow/python/client/session.py?line=1454'>1455</a>\u001b[0m                         run_metadata):\n\u001b[1;32m-> <a href='file:///c%3A/Users/hazem/anaconda3/envs/uvapp/lib/site-packages/tensorflow/python/client/session.py?line=1455'>1456</a>\u001b[0m   \u001b[39mreturn\u001b[39;00m tf_session\u001b[39m.\u001b[39;49mTF_SessionRun_wrapper(\u001b[39mself\u001b[39;49m\u001b[39m.\u001b[39;49m_session, options, feed_dict,\n\u001b[0;32m   <a href='file:///c%3A/Users/hazem/anaconda3/envs/uvapp/lib/site-packages/tensorflow/python/client/session.py?line=1456'>1457</a>\u001b[0m                                           fetch_list, target_list,\n\u001b[0;32m   <a href='file:///c%3A/Users/hazem/anaconda3/envs/uvapp/lib/site-packages/tensorflow/python/client/session.py?line=1457'>1458</a>\u001b[0m                                           run_metadata)\n",
      "\u001b[1;31mResourceExhaustedError\u001b[0m: 2 root error(s) found.\n  (0) RESOURCE_EXHAUSTED: OOM when allocating tensor with shape[20000,20000] and type float on /job:localhost/replica:0/task:0/device:GPU:0 by allocator GPU_0_bfc\n\t [[{{node Tensordot/MatMul}}]]\nHint: If you want to see a list of allocated tensors when OOM happens, add report_tensor_allocations_upon_oom to RunOptions for current allocation info. This isn't available when running in Eager mode.\n\n\t [[add_3/_5]]\nHint: If you want to see a list of allocated tensors when OOM happens, add report_tensor_allocations_upon_oom to RunOptions for current allocation info. This isn't available when running in Eager mode.\n\n  (1) RESOURCE_EXHAUSTED: OOM when allocating tensor with shape[20000,20000] and type float on /job:localhost/replica:0/task:0/device:GPU:0 by allocator GPU_0_bfc\n\t [[{{node Tensordot/MatMul}}]]\nHint: If you want to see a list of allocated tensors when OOM happens, add report_tensor_allocations_upon_oom to RunOptions for current allocation info. This isn't available when running in Eager mode.\n\n0 successful operations.\n0 derived errors ignored.",
      "\nDuring handling of the above exception, another exception occurred:\n",
      "\u001b[1;31mResourceExhaustedError\u001b[0m                    Traceback (most recent call last)",
      "\u001b[1;32mc:\\Users\\hazem\\Desktop\\collage\\Graduation project\\Unlimited vision app\\glove.ipynb Cell 20'\u001b[0m in \u001b[0;36m<cell line: 4>\u001b[1;34m()\u001b[0m\n\u001b[0;32m      <a href='vscode-notebook-cell:/c%3A/Users/hazem/Desktop/collage/Graduation%20project/Unlimited%20vision%20app/glove.ipynb#ch0000017?line=0'>1</a>\u001b[0m \u001b[39mfrom\u001b[39;00m \u001b[39mmittens\u001b[39;00m \u001b[39mimport\u001b[39;00m Mittens\n\u001b[0;32m      <a href='vscode-notebook-cell:/c%3A/Users/hazem/Desktop/collage/Graduation%20project/Unlimited%20vision%20app/glove.ipynb#ch0000017?line=2'>3</a>\u001b[0m mittens_model \u001b[39m=\u001b[39m Mittens(n\u001b[39m=\u001b[39mglove_dim, max_iter\u001b[39m=\u001b[39m\u001b[39m9000\u001b[39m)\n\u001b[1;32m----> <a href='vscode-notebook-cell:/c%3A/Users/hazem/Desktop/collage/Graduation%20project/Unlimited%20vision%20app/glove.ipynb#ch0000017?line=3'>4</a>\u001b[0m new_embeddings \u001b[39m=\u001b[39m mittens_model\u001b[39m.\u001b[39;49mfit(\n\u001b[0;32m      <a href='vscode-notebook-cell:/c%3A/Users/hazem/Desktop/collage/Graduation%20project/Unlimited%20vision%20app/glove.ipynb#ch0000017?line=4'>5</a>\u001b[0m     coocc_ar,\n\u001b[0;32m      <a href='vscode-notebook-cell:/c%3A/Users/hazem/Desktop/collage/Graduation%20project/Unlimited%20vision%20app/glove.ipynb#ch0000017?line=5'>6</a>\u001b[0m     vocab\u001b[39m=\u001b[39;49mmax_Vocab,\n\u001b[0;32m      <a href='vscode-notebook-cell:/c%3A/Users/hazem/Desktop/collage/Graduation%20project/Unlimited%20vision%20app/glove.ipynb#ch0000017?line=6'>7</a>\u001b[0m     initial_embedding_dict\u001b[39m=\u001b[39;49m pre_glove)\n",
      "File \u001b[1;32mc:\\Users\\hazem\\anaconda3\\envs\\uvapp\\lib\\site-packages\\mittens\\mittens_base.py:81\u001b[0m, in \u001b[0;36mMittensBase.fit\u001b[1;34m(self, X, vocab, initial_embedding_dict, fixed_initialization)\u001b[0m\n\u001b[0;32m     <a href='file:///c%3A/Users/hazem/anaconda3/envs/uvapp/lib/site-packages/mittens/mittens_base.py?line=76'>77</a>\u001b[0m \u001b[39mself\u001b[39m\u001b[39m.\u001b[39m_check_dimensions(\n\u001b[0;32m     <a href='file:///c%3A/Users/hazem/anaconda3/envs/uvapp/lib/site-packages/mittens/mittens_base.py?line=77'>78</a>\u001b[0m     X, vocab, initial_embedding_dict\n\u001b[0;32m     <a href='file:///c%3A/Users/hazem/anaconda3/envs/uvapp/lib/site-packages/mittens/mittens_base.py?line=78'>79</a>\u001b[0m )\n\u001b[0;32m     <a href='file:///c%3A/Users/hazem/anaconda3/envs/uvapp/lib/site-packages/mittens/mittens_base.py?line=79'>80</a>\u001b[0m weights, log_coincidence \u001b[39m=\u001b[39m \u001b[39mself\u001b[39m\u001b[39m.\u001b[39m_initialize(X)\n\u001b[1;32m---> <a href='file:///c%3A/Users/hazem/anaconda3/envs/uvapp/lib/site-packages/mittens/mittens_base.py?line=80'>81</a>\u001b[0m \u001b[39mreturn\u001b[39;00m \u001b[39mself\u001b[39;49m\u001b[39m.\u001b[39;49m_fit(X, weights, log_coincidence,\n\u001b[0;32m     <a href='file:///c%3A/Users/hazem/anaconda3/envs/uvapp/lib/site-packages/mittens/mittens_base.py?line=81'>82</a>\u001b[0m                  vocab\u001b[39m=\u001b[39;49mvocab,\n\u001b[0;32m     <a href='file:///c%3A/Users/hazem/anaconda3/envs/uvapp/lib/site-packages/mittens/mittens_base.py?line=82'>83</a>\u001b[0m                  initial_embedding_dict\u001b[39m=\u001b[39;49minitial_embedding_dict,\n\u001b[0;32m     <a href='file:///c%3A/Users/hazem/anaconda3/envs/uvapp/lib/site-packages/mittens/mittens_base.py?line=83'>84</a>\u001b[0m                  fixed_initialization\u001b[39m=\u001b[39;49mfixed_initialization)\n",
      "File \u001b[1;32mc:\\Users\\hazem\\anaconda3\\envs\\uvapp\\lib\\site-packages\\mittens\\tf_mittens.py:79\u001b[0m, in \u001b[0;36mMittens._fit\u001b[1;34m(self, X, weights, log_coincidence, vocab, initial_embedding_dict, fixed_initialization)\u001b[0m\n\u001b[0;32m     <a href='file:///c%3A/Users/hazem/anaconda3/envs/uvapp/lib/site-packages/mittens/tf_mittens.py?line=76'>77</a>\u001b[0m merged_logs \u001b[39m=\u001b[39m tf\u001b[39m.\u001b[39msummary\u001b[39m.\u001b[39mmerge_all()\n\u001b[0;32m     <a href='file:///c%3A/Users/hazem/anaconda3/envs/uvapp/lib/site-packages/mittens/tf_mittens.py?line=77'>78</a>\u001b[0m \u001b[39mfor\u001b[39;00m i \u001b[39min\u001b[39;00m \u001b[39mrange\u001b[39m(\u001b[39m1\u001b[39m, \u001b[39mself\u001b[39m\u001b[39m.\u001b[39mmax_iter\u001b[39m+\u001b[39m\u001b[39m1\u001b[39m):\n\u001b[1;32m---> <a href='file:///c%3A/Users/hazem/anaconda3/envs/uvapp/lib/site-packages/mittens/tf_mittens.py?line=78'>79</a>\u001b[0m     _, loss, stats \u001b[39m=\u001b[39m \u001b[39mself\u001b[39;49m\u001b[39m.\u001b[39;49msess\u001b[39m.\u001b[39;49mrun(\n\u001b[0;32m     <a href='file:///c%3A/Users/hazem/anaconda3/envs/uvapp/lib/site-packages/mittens/tf_mittens.py?line=79'>80</a>\u001b[0m         [\u001b[39mself\u001b[39;49m\u001b[39m.\u001b[39;49moptimizer, \u001b[39mself\u001b[39;49m\u001b[39m.\u001b[39;49mcost, merged_logs],\n\u001b[0;32m     <a href='file:///c%3A/Users/hazem/anaconda3/envs/uvapp/lib/site-packages/mittens/tf_mittens.py?line=80'>81</a>\u001b[0m         feed_dict\u001b[39m=\u001b[39;49m{\n\u001b[0;32m     <a href='file:///c%3A/Users/hazem/anaconda3/envs/uvapp/lib/site-packages/mittens/tf_mittens.py?line=81'>82</a>\u001b[0m             \u001b[39mself\u001b[39;49m\u001b[39m.\u001b[39;49mweights: weights,\n\u001b[0;32m     <a href='file:///c%3A/Users/hazem/anaconda3/envs/uvapp/lib/site-packages/mittens/tf_mittens.py?line=82'>83</a>\u001b[0m             \u001b[39mself\u001b[39;49m\u001b[39m.\u001b[39;49mlog_coincidence: log_coincidence})\n\u001b[0;32m     <a href='file:///c%3A/Users/hazem/anaconda3/envs/uvapp/lib/site-packages/mittens/tf_mittens.py?line=84'>85</a>\u001b[0m     \u001b[39m# Keep track of losses\u001b[39;00m\n\u001b[0;32m     <a href='file:///c%3A/Users/hazem/anaconda3/envs/uvapp/lib/site-packages/mittens/tf_mittens.py?line=85'>86</a>\u001b[0m     \u001b[39mif\u001b[39;00m \u001b[39mself\u001b[39m\u001b[39m.\u001b[39mlog_dir \u001b[39mand\u001b[39;00m i \u001b[39m%\u001b[39m \u001b[39m10\u001b[39m \u001b[39m==\u001b[39m \u001b[39m0\u001b[39m:\n",
      "File \u001b[1;32mc:\\Users\\hazem\\anaconda3\\envs\\uvapp\\lib\\site-packages\\tensorflow\\python\\client\\session.py:970\u001b[0m, in \u001b[0;36mBaseSession.run\u001b[1;34m(self, fetches, feed_dict, options, run_metadata)\u001b[0m\n\u001b[0;32m    <a href='file:///c%3A/Users/hazem/anaconda3/envs/uvapp/lib/site-packages/tensorflow/python/client/session.py?line=966'>967</a>\u001b[0m run_metadata_ptr \u001b[39m=\u001b[39m tf_session\u001b[39m.\u001b[39mTF_NewBuffer() \u001b[39mif\u001b[39;00m run_metadata \u001b[39melse\u001b[39;00m \u001b[39mNone\u001b[39;00m\n\u001b[0;32m    <a href='file:///c%3A/Users/hazem/anaconda3/envs/uvapp/lib/site-packages/tensorflow/python/client/session.py?line=968'>969</a>\u001b[0m \u001b[39mtry\u001b[39;00m:\n\u001b[1;32m--> <a href='file:///c%3A/Users/hazem/anaconda3/envs/uvapp/lib/site-packages/tensorflow/python/client/session.py?line=969'>970</a>\u001b[0m   result \u001b[39m=\u001b[39m \u001b[39mself\u001b[39;49m\u001b[39m.\u001b[39;49m_run(\u001b[39mNone\u001b[39;49;00m, fetches, feed_dict, options_ptr,\n\u001b[0;32m    <a href='file:///c%3A/Users/hazem/anaconda3/envs/uvapp/lib/site-packages/tensorflow/python/client/session.py?line=970'>971</a>\u001b[0m                      run_metadata_ptr)\n\u001b[0;32m    <a href='file:///c%3A/Users/hazem/anaconda3/envs/uvapp/lib/site-packages/tensorflow/python/client/session.py?line=971'>972</a>\u001b[0m   \u001b[39mif\u001b[39;00m run_metadata:\n\u001b[0;32m    <a href='file:///c%3A/Users/hazem/anaconda3/envs/uvapp/lib/site-packages/tensorflow/python/client/session.py?line=972'>973</a>\u001b[0m     proto_data \u001b[39m=\u001b[39m tf_session\u001b[39m.\u001b[39mTF_GetBuffer(run_metadata_ptr)\n",
      "File \u001b[1;32mc:\\Users\\hazem\\anaconda3\\envs\\uvapp\\lib\\site-packages\\tensorflow\\python\\client\\session.py:1193\u001b[0m, in \u001b[0;36mBaseSession._run\u001b[1;34m(self, handle, fetches, feed_dict, options, run_metadata)\u001b[0m\n\u001b[0;32m   <a href='file:///c%3A/Users/hazem/anaconda3/envs/uvapp/lib/site-packages/tensorflow/python/client/session.py?line=1189'>1190</a>\u001b[0m \u001b[39m# We only want to really perform the run if fetches or targets are provided,\u001b[39;00m\n\u001b[0;32m   <a href='file:///c%3A/Users/hazem/anaconda3/envs/uvapp/lib/site-packages/tensorflow/python/client/session.py?line=1190'>1191</a>\u001b[0m \u001b[39m# or if the call is a partial run that specifies feeds.\u001b[39;00m\n\u001b[0;32m   <a href='file:///c%3A/Users/hazem/anaconda3/envs/uvapp/lib/site-packages/tensorflow/python/client/session.py?line=1191'>1192</a>\u001b[0m \u001b[39mif\u001b[39;00m final_fetches \u001b[39mor\u001b[39;00m final_targets \u001b[39mor\u001b[39;00m (handle \u001b[39mand\u001b[39;00m feed_dict_tensor):\n\u001b[1;32m-> <a href='file:///c%3A/Users/hazem/anaconda3/envs/uvapp/lib/site-packages/tensorflow/python/client/session.py?line=1192'>1193</a>\u001b[0m   results \u001b[39m=\u001b[39m \u001b[39mself\u001b[39;49m\u001b[39m.\u001b[39;49m_do_run(handle, final_targets, final_fetches,\n\u001b[0;32m   <a href='file:///c%3A/Users/hazem/anaconda3/envs/uvapp/lib/site-packages/tensorflow/python/client/session.py?line=1193'>1194</a>\u001b[0m                          feed_dict_tensor, options, run_metadata)\n\u001b[0;32m   <a href='file:///c%3A/Users/hazem/anaconda3/envs/uvapp/lib/site-packages/tensorflow/python/client/session.py?line=1194'>1195</a>\u001b[0m \u001b[39melse\u001b[39;00m:\n\u001b[0;32m   <a href='file:///c%3A/Users/hazem/anaconda3/envs/uvapp/lib/site-packages/tensorflow/python/client/session.py?line=1195'>1196</a>\u001b[0m   results \u001b[39m=\u001b[39m []\n",
      "File \u001b[1;32mc:\\Users\\hazem\\anaconda3\\envs\\uvapp\\lib\\site-packages\\tensorflow\\python\\client\\session.py:1373\u001b[0m, in \u001b[0;36mBaseSession._do_run\u001b[1;34m(self, handle, target_list, fetch_list, feed_dict, options, run_metadata)\u001b[0m\n\u001b[0;32m   <a href='file:///c%3A/Users/hazem/anaconda3/envs/uvapp/lib/site-packages/tensorflow/python/client/session.py?line=1369'>1370</a>\u001b[0m   \u001b[39mreturn\u001b[39;00m \u001b[39mself\u001b[39m\u001b[39m.\u001b[39m_call_tf_sessionprun(handle, feed_dict, fetch_list)\n\u001b[0;32m   <a href='file:///c%3A/Users/hazem/anaconda3/envs/uvapp/lib/site-packages/tensorflow/python/client/session.py?line=1371'>1372</a>\u001b[0m \u001b[39mif\u001b[39;00m handle \u001b[39mis\u001b[39;00m \u001b[39mNone\u001b[39;00m:\n\u001b[1;32m-> <a href='file:///c%3A/Users/hazem/anaconda3/envs/uvapp/lib/site-packages/tensorflow/python/client/session.py?line=1372'>1373</a>\u001b[0m   \u001b[39mreturn\u001b[39;00m \u001b[39mself\u001b[39;49m\u001b[39m.\u001b[39;49m_do_call(_run_fn, feeds, fetches, targets, options,\n\u001b[0;32m   <a href='file:///c%3A/Users/hazem/anaconda3/envs/uvapp/lib/site-packages/tensorflow/python/client/session.py?line=1373'>1374</a>\u001b[0m                        run_metadata)\n\u001b[0;32m   <a href='file:///c%3A/Users/hazem/anaconda3/envs/uvapp/lib/site-packages/tensorflow/python/client/session.py?line=1374'>1375</a>\u001b[0m \u001b[39melse\u001b[39;00m:\n\u001b[0;32m   <a href='file:///c%3A/Users/hazem/anaconda3/envs/uvapp/lib/site-packages/tensorflow/python/client/session.py?line=1375'>1376</a>\u001b[0m   \u001b[39mreturn\u001b[39;00m \u001b[39mself\u001b[39m\u001b[39m.\u001b[39m_do_call(_prun_fn, handle, feeds, fetches)\n",
      "File \u001b[1;32mc:\\Users\\hazem\\anaconda3\\envs\\uvapp\\lib\\site-packages\\tensorflow\\python\\client\\session.py:1399\u001b[0m, in \u001b[0;36mBaseSession._do_call\u001b[1;34m(self, fn, *args)\u001b[0m\n\u001b[0;32m   <a href='file:///c%3A/Users/hazem/anaconda3/envs/uvapp/lib/site-packages/tensorflow/python/client/session.py?line=1393'>1394</a>\u001b[0m \u001b[39mif\u001b[39;00m \u001b[39m'\u001b[39m\u001b[39monly supports NHWC tensor format\u001b[39m\u001b[39m'\u001b[39m \u001b[39min\u001b[39;00m message:\n\u001b[0;32m   <a href='file:///c%3A/Users/hazem/anaconda3/envs/uvapp/lib/site-packages/tensorflow/python/client/session.py?line=1394'>1395</a>\u001b[0m   message \u001b[39m+\u001b[39m\u001b[39m=\u001b[39m (\u001b[39m'\u001b[39m\u001b[39m\\n\u001b[39;00m\u001b[39mA possible workaround: Try disabling Grappler optimizer\u001b[39m\u001b[39m'\u001b[39m\n\u001b[0;32m   <a href='file:///c%3A/Users/hazem/anaconda3/envs/uvapp/lib/site-packages/tensorflow/python/client/session.py?line=1395'>1396</a>\u001b[0m               \u001b[39m'\u001b[39m\u001b[39m\\n\u001b[39;00m\u001b[39mby modifying the config for creating the session eg.\u001b[39m\u001b[39m'\u001b[39m\n\u001b[0;32m   <a href='file:///c%3A/Users/hazem/anaconda3/envs/uvapp/lib/site-packages/tensorflow/python/client/session.py?line=1396'>1397</a>\u001b[0m               \u001b[39m'\u001b[39m\u001b[39m\\n\u001b[39;00m\u001b[39msession_config.graph_options.rewrite_options.\u001b[39m\u001b[39m'\u001b[39m\n\u001b[0;32m   <a href='file:///c%3A/Users/hazem/anaconda3/envs/uvapp/lib/site-packages/tensorflow/python/client/session.py?line=1397'>1398</a>\u001b[0m               \u001b[39m'\u001b[39m\u001b[39mdisable_meta_optimizer = True\u001b[39m\u001b[39m'\u001b[39m)\n\u001b[1;32m-> <a href='file:///c%3A/Users/hazem/anaconda3/envs/uvapp/lib/site-packages/tensorflow/python/client/session.py?line=1398'>1399</a>\u001b[0m \u001b[39mraise\u001b[39;00m \u001b[39mtype\u001b[39m(e)(node_def, op, message)\n",
      "\u001b[1;31mResourceExhaustedError\u001b[0m: 2 root error(s) found.\n  (0) RESOURCE_EXHAUSTED: OOM when allocating tensor with shape[20000,20000] and type float on /job:localhost/replica:0/task:0/device:GPU:0 by allocator GPU_0_bfc\n\t [[node Tensordot/MatMul\n (defined at c:\\Users\\hazem\\anaconda3\\envs\\uvapp\\lib\\site-packages\\mittens\\tf_mittens.py:150)\n]]\nHint: If you want to see a list of allocated tensors when OOM happens, add report_tensor_allocations_upon_oom to RunOptions for current allocation info. This isn't available when running in Eager mode.\n\n\t [[add_3/_5]]\nHint: If you want to see a list of allocated tensors when OOM happens, add report_tensor_allocations_upon_oom to RunOptions for current allocation info. This isn't available when running in Eager mode.\n\n  (1) RESOURCE_EXHAUSTED: OOM when allocating tensor with shape[20000,20000] and type float on /job:localhost/replica:0/task:0/device:GPU:0 by allocator GPU_0_bfc\n\t [[node Tensordot/MatMul\n (defined at c:\\Users\\hazem\\anaconda3\\envs\\uvapp\\lib\\site-packages\\mittens\\tf_mittens.py:150)\n]]\nHint: If you want to see a list of allocated tensors when OOM happens, add report_tensor_allocations_upon_oom to RunOptions for current allocation info. This isn't available when running in Eager mode.\n\n0 successful operations.\n0 derived errors ignored.\n\nErrors may have originated from an input operation.\nInput Source operations connected to node Tensordot/MatMul:\nIn[0] Tensordot/ReadVariableOp:\t\nIn[1] transpose:\n\nOperation defined at: (most recent call last)\n>>>   File \"c:\\Users\\hazem\\anaconda3\\envs\\uvapp\\lib\\runpy.py\", line 197, in _run_module_as_main\n>>>     return _run_code(code, main_globals, None,\n>>> \n>>>   File \"c:\\Users\\hazem\\anaconda3\\envs\\uvapp\\lib\\runpy.py\", line 87, in _run_code\n>>>     exec(code, run_globals)\n>>> \n>>>   File \"c:\\Users\\hazem\\anaconda3\\envs\\uvapp\\lib\\site-packages\\ipykernel_launcher.py\", line 16, in <module>\n>>>     app.launch_new_instance()\n>>> \n>>>   File \"c:\\Users\\hazem\\anaconda3\\envs\\uvapp\\lib\\site-packages\\traitlets\\config\\application.py\", line 846, in launch_instance\n>>>     app.start()\n>>> \n>>>   File \"c:\\Users\\hazem\\anaconda3\\envs\\uvapp\\lib\\site-packages\\ipykernel\\kernelapp.py\", line 677, in start\n>>>     self.io_loop.start()\n>>> \n>>>   File \"c:\\Users\\hazem\\anaconda3\\envs\\uvapp\\lib\\site-packages\\tornado\\platform\\asyncio.py\", line 199, in start\n>>>     self.asyncio_loop.run_forever()\n>>> \n>>>   File \"c:\\Users\\hazem\\anaconda3\\envs\\uvapp\\lib\\asyncio\\base_events.py\", line 601, in run_forever\n>>>     self._run_once()\n>>> \n>>>   File \"c:\\Users\\hazem\\anaconda3\\envs\\uvapp\\lib\\asyncio\\base_events.py\", line 1905, in _run_once\n>>>     handle._run()\n>>> \n>>>   File \"c:\\Users\\hazem\\anaconda3\\envs\\uvapp\\lib\\asyncio\\events.py\", line 80, in _run\n>>>     self._context.run(self._callback, *self._args)\n>>> \n>>>   File \"c:\\Users\\hazem\\anaconda3\\envs\\uvapp\\lib\\site-packages\\ipykernel\\kernelbase.py\", line 471, in dispatch_queue\n>>>     await self.process_one()\n>>> \n>>>   File \"c:\\Users\\hazem\\anaconda3\\envs\\uvapp\\lib\\site-packages\\ipykernel\\kernelbase.py\", line 460, in process_one\n>>>     await dispatch(*args)\n>>> \n>>>   File \"c:\\Users\\hazem\\anaconda3\\envs\\uvapp\\lib\\site-packages\\ipykernel\\kernelbase.py\", line 367, in dispatch_shell\n>>>     await result\n>>> \n>>>   File \"c:\\Users\\hazem\\anaconda3\\envs\\uvapp\\lib\\site-packages\\ipykernel\\kernelbase.py\", line 662, in execute_request\n>>>     reply_content = await reply_content\n>>> \n>>>   File \"c:\\Users\\hazem\\anaconda3\\envs\\uvapp\\lib\\site-packages\\ipykernel\\ipkernel.py\", line 360, in do_execute\n>>>     res = shell.run_cell(code, store_history=store_history, silent=silent)\n>>> \n>>>   File \"c:\\Users\\hazem\\anaconda3\\envs\\uvapp\\lib\\site-packages\\ipykernel\\zmqshell.py\", line 532, in run_cell\n>>>     return super().run_cell(*args, **kwargs)\n>>> \n>>>   File \"c:\\Users\\hazem\\anaconda3\\envs\\uvapp\\lib\\site-packages\\IPython\\core\\interactiveshell.py\", line 2863, in run_cell\n>>>     result = self._run_cell(\n>>> \n>>>   File \"c:\\Users\\hazem\\anaconda3\\envs\\uvapp\\lib\\site-packages\\IPython\\core\\interactiveshell.py\", line 2909, in _run_cell\n>>>     return runner(coro)\n>>> \n>>>   File \"c:\\Users\\hazem\\anaconda3\\envs\\uvapp\\lib\\site-packages\\IPython\\core\\async_helpers.py\", line 129, in _pseudo_sync_runner\n>>>     coro.send(None)\n>>> \n>>>   File \"c:\\Users\\hazem\\anaconda3\\envs\\uvapp\\lib\\site-packages\\IPython\\core\\interactiveshell.py\", line 3106, in run_cell_async\n>>>     has_raised = await self.run_ast_nodes(code_ast.body, cell_name,\n>>> \n>>>   File \"c:\\Users\\hazem\\anaconda3\\envs\\uvapp\\lib\\site-packages\\IPython\\core\\interactiveshell.py\", line 3309, in run_ast_nodes\n>>>     if await self.run_code(code, result, async_=asy):\n>>> \n>>>   File \"c:\\Users\\hazem\\anaconda3\\envs\\uvapp\\lib\\site-packages\\IPython\\core\\interactiveshell.py\", line 3369, in run_code\n>>>     exec(code_obj, self.user_global_ns, self.user_ns)\n>>> \n>>>   File \"C:\\Users\\hazem\\AppData\\Local\\Temp\\ipykernel_3756\\2191877791.py\", line 4, in <cell line: 4>\n>>>     new_embeddings = mittens_model.fit(\n>>> \n>>>   File \"c:\\Users\\hazem\\anaconda3\\envs\\uvapp\\lib\\site-packages\\mittens\\mittens_base.py\", line 81, in fit\n>>>     return self._fit(X, weights, log_coincidence,\n>>> \n>>>   File \"c:\\Users\\hazem\\anaconda3\\envs\\uvapp\\lib\\site-packages\\mittens\\tf_mittens.py\", line 56, in _fit\n>>>     self._build_graph(vocab, initial_embedding_dict)\n>>> \n>>>   File \"c:\\Users\\hazem\\anaconda3\\envs\\uvapp\\lib\\site-packages\\mittens\\tf_mittens.py\", line 150, in _build_graph\n>>>     self.model = tf.tensordot(self.W, tf.transpose(self.C), axes=1) + \\\n>>> \n\nInput Source operations connected to node Tensordot/MatMul:\nIn[0] Tensordot/ReadVariableOp:\t\nIn[1] transpose:\n\nOperation defined at: (most recent call last)\n>>>   File \"c:\\Users\\hazem\\anaconda3\\envs\\uvapp\\lib\\runpy.py\", line 197, in _run_module_as_main\n>>>     return _run_code(code, main_globals, None,\n>>> \n>>>   File \"c:\\Users\\hazem\\anaconda3\\envs\\uvapp\\lib\\runpy.py\", line 87, in _run_code\n>>>     exec(code, run_globals)\n>>> \n>>>   File \"c:\\Users\\hazem\\anaconda3\\envs\\uvapp\\lib\\site-packages\\ipykernel_launcher.py\", line 16, in <module>\n>>>     app.launch_new_instance()\n>>> \n>>>   File \"c:\\Users\\hazem\\anaconda3\\envs\\uvapp\\lib\\site-packages\\traitlets\\config\\application.py\", line 846, in launch_instance\n>>>     app.start()\n>>> \n>>>   File \"c:\\Users\\hazem\\anaconda3\\envs\\uvapp\\lib\\site-packages\\ipykernel\\kernelapp.py\", line 677, in start\n>>>     self.io_loop.start()\n>>> \n>>>   File \"c:\\Users\\hazem\\anaconda3\\envs\\uvapp\\lib\\site-packages\\tornado\\platform\\asyncio.py\", line 199, in start\n>>>     self.asyncio_loop.run_forever()\n>>> \n>>>   File \"c:\\Users\\hazem\\anaconda3\\envs\\uvapp\\lib\\asyncio\\base_events.py\", line 601, in run_forever\n>>>     self._run_once()\n>>> \n>>>   File \"c:\\Users\\hazem\\anaconda3\\envs\\uvapp\\lib\\asyncio\\base_events.py\", line 1905, in _run_once\n>>>     handle._run()\n>>> \n>>>   File \"c:\\Users\\hazem\\anaconda3\\envs\\uvapp\\lib\\asyncio\\events.py\", line 80, in _run\n>>>     self._context.run(self._callback, *self._args)\n>>> \n>>>   File \"c:\\Users\\hazem\\anaconda3\\envs\\uvapp\\lib\\site-packages\\ipykernel\\kernelbase.py\", line 471, in dispatch_queue\n>>>     await self.process_one()\n>>> \n>>>   File \"c:\\Users\\hazem\\anaconda3\\envs\\uvapp\\lib\\site-packages\\ipykernel\\kernelbase.py\", line 460, in process_one\n>>>     await dispatch(*args)\n>>> \n>>>   File \"c:\\Users\\hazem\\anaconda3\\envs\\uvapp\\lib\\site-packages\\ipykernel\\kernelbase.py\", line 367, in dispatch_shell\n>>>     await result\n>>> \n>>>   File \"c:\\Users\\hazem\\anaconda3\\envs\\uvapp\\lib\\site-packages\\ipykernel\\kernelbase.py\", line 662, in execute_request\n>>>     reply_content = await reply_content\n>>> \n>>>   File \"c:\\Users\\hazem\\anaconda3\\envs\\uvapp\\lib\\site-packages\\ipykernel\\ipkernel.py\", line 360, in do_execute\n>>>     res = shell.run_cell(code, store_history=store_history, silent=silent)\n>>> \n>>>   File \"c:\\Users\\hazem\\anaconda3\\envs\\uvapp\\lib\\site-packages\\ipykernel\\zmqshell.py\", line 532, in run_cell\n>>>     return super().run_cell(*args, **kwargs)\n>>> \n>>>   File \"c:\\Users\\hazem\\anaconda3\\envs\\uvapp\\lib\\site-packages\\IPython\\core\\interactiveshell.py\", line 2863, in run_cell\n>>>     result = self._run_cell(\n>>> \n>>>   File \"c:\\Users\\hazem\\anaconda3\\envs\\uvapp\\lib\\site-packages\\IPython\\core\\interactiveshell.py\", line 2909, in _run_cell\n>>>     return runner(coro)\n>>> \n>>>   File \"c:\\Users\\hazem\\anaconda3\\envs\\uvapp\\lib\\site-packages\\IPython\\core\\async_helpers.py\", line 129, in _pseudo_sync_runner\n>>>     coro.send(None)\n>>> \n>>>   File \"c:\\Users\\hazem\\anaconda3\\envs\\uvapp\\lib\\site-packages\\IPython\\core\\interactiveshell.py\", line 3106, in run_cell_async\n>>>     has_raised = await self.run_ast_nodes(code_ast.body, cell_name,\n>>> \n>>>   File \"c:\\Users\\hazem\\anaconda3\\envs\\uvapp\\lib\\site-packages\\IPython\\core\\interactiveshell.py\", line 3309, in run_ast_nodes\n>>>     if await self.run_code(code, result, async_=asy):\n>>> \n>>>   File \"c:\\Users\\hazem\\anaconda3\\envs\\uvapp\\lib\\site-packages\\IPython\\core\\interactiveshell.py\", line 3369, in run_code\n>>>     exec(code_obj, self.user_global_ns, self.user_ns)\n>>> \n>>>   File \"C:\\Users\\hazem\\AppData\\Local\\Temp\\ipykernel_3756\\2191877791.py\", line 4, in <cell line: 4>\n>>>     new_embeddings = mittens_model.fit(\n>>> \n>>>   File \"c:\\Users\\hazem\\anaconda3\\envs\\uvapp\\lib\\site-packages\\mittens\\mittens_base.py\", line 81, in fit\n>>>     return self._fit(X, weights, log_coincidence,\n>>> \n>>>   File \"c:\\Users\\hazem\\anaconda3\\envs\\uvapp\\lib\\site-packages\\mittens\\tf_mittens.py\", line 56, in _fit\n>>>     self._build_graph(vocab, initial_embedding_dict)\n>>> \n>>>   File \"c:\\Users\\hazem\\anaconda3\\envs\\uvapp\\lib\\site-packages\\mittens\\tf_mittens.py\", line 150, in _build_graph\n>>>     self.model = tf.tensordot(self.W, tf.transpose(self.C), axes=1) + \\\n>>> \n\nOriginal stack trace for 'Tensordot/MatMul':\n  File \"c:\\Users\\hazem\\anaconda3\\envs\\uvapp\\lib\\runpy.py\", line 197, in _run_module_as_main\n    return _run_code(code, main_globals, None,\n  File \"c:\\Users\\hazem\\anaconda3\\envs\\uvapp\\lib\\runpy.py\", line 87, in _run_code\n    exec(code, run_globals)\n  File \"c:\\Users\\hazem\\anaconda3\\envs\\uvapp\\lib\\site-packages\\ipykernel_launcher.py\", line 16, in <module>\n    app.launch_new_instance()\n  File \"c:\\Users\\hazem\\anaconda3\\envs\\uvapp\\lib\\site-packages\\traitlets\\config\\application.py\", line 846, in launch_instance\n    app.start()\n  File \"c:\\Users\\hazem\\anaconda3\\envs\\uvapp\\lib\\site-packages\\ipykernel\\kernelapp.py\", line 677, in start\n    self.io_loop.start()\n  File \"c:\\Users\\hazem\\anaconda3\\envs\\uvapp\\lib\\site-packages\\tornado\\platform\\asyncio.py\", line 199, in start\n    self.asyncio_loop.run_forever()\n  File \"c:\\Users\\hazem\\anaconda3\\envs\\uvapp\\lib\\asyncio\\base_events.py\", line 601, in run_forever\n    self._run_once()\n  File \"c:\\Users\\hazem\\anaconda3\\envs\\uvapp\\lib\\asyncio\\base_events.py\", line 1905, in _run_once\n    handle._run()\n  File \"c:\\Users\\hazem\\anaconda3\\envs\\uvapp\\lib\\asyncio\\events.py\", line 80, in _run\n    self._context.run(self._callback, *self._args)\n  File \"c:\\Users\\hazem\\anaconda3\\envs\\uvapp\\lib\\site-packages\\ipykernel\\kernelbase.py\", line 471, in dispatch_queue\n    await self.process_one()\n  File \"c:\\Users\\hazem\\anaconda3\\envs\\uvapp\\lib\\site-packages\\ipykernel\\kernelbase.py\", line 460, in process_one\n    await dispatch(*args)\n  File \"c:\\Users\\hazem\\anaconda3\\envs\\uvapp\\lib\\site-packages\\ipykernel\\kernelbase.py\", line 367, in dispatch_shell\n    await result\n  File \"c:\\Users\\hazem\\anaconda3\\envs\\uvapp\\lib\\site-packages\\ipykernel\\kernelbase.py\", line 662, in execute_request\n    reply_content = await reply_content\n  File \"c:\\Users\\hazem\\anaconda3\\envs\\uvapp\\lib\\site-packages\\ipykernel\\ipkernel.py\", line 360, in do_execute\n    res = shell.run_cell(code, store_history=store_history, silent=silent)\n  File \"c:\\Users\\hazem\\anaconda3\\envs\\uvapp\\lib\\site-packages\\ipykernel\\zmqshell.py\", line 532, in run_cell\n    return super().run_cell(*args, **kwargs)\n  File \"c:\\Users\\hazem\\anaconda3\\envs\\uvapp\\lib\\site-packages\\IPython\\core\\interactiveshell.py\", line 2863, in run_cell\n    result = self._run_cell(\n  File \"c:\\Users\\hazem\\anaconda3\\envs\\uvapp\\lib\\site-packages\\IPython\\core\\interactiveshell.py\", line 2909, in _run_cell\n    return runner(coro)\n  File \"c:\\Users\\hazem\\anaconda3\\envs\\uvapp\\lib\\site-packages\\IPython\\core\\async_helpers.py\", line 129, in _pseudo_sync_runner\n    coro.send(None)\n  File \"c:\\Users\\hazem\\anaconda3\\envs\\uvapp\\lib\\site-packages\\IPython\\core\\interactiveshell.py\", line 3106, in run_cell_async\n    has_raised = await self.run_ast_nodes(code_ast.body, cell_name,\n  File \"c:\\Users\\hazem\\anaconda3\\envs\\uvapp\\lib\\site-packages\\IPython\\core\\interactiveshell.py\", line 3309, in run_ast_nodes\n    if await self.run_code(code, result, async_=asy):\n  File \"c:\\Users\\hazem\\anaconda3\\envs\\uvapp\\lib\\site-packages\\IPython\\core\\interactiveshell.py\", line 3369, in run_code\n    exec(code_obj, self.user_global_ns, self.user_ns)\n  File \"C:\\Users\\hazem\\AppData\\Local\\Temp\\ipykernel_3756\\2191877791.py\", line 4, in <cell line: 4>\n    new_embeddings = mittens_model.fit(\n  File \"c:\\Users\\hazem\\anaconda3\\envs\\uvapp\\lib\\site-packages\\mittens\\mittens_base.py\", line 81, in fit\n    return self._fit(X, weights, log_coincidence,\n  File \"c:\\Users\\hazem\\anaconda3\\envs\\uvapp\\lib\\site-packages\\mittens\\tf_mittens.py\", line 56, in _fit\n    self._build_graph(vocab, initial_embedding_dict)\n  File \"c:\\Users\\hazem\\anaconda3\\envs\\uvapp\\lib\\site-packages\\mittens\\tf_mittens.py\", line 150, in _build_graph\n    self.model = tf.tensordot(self.W, tf.transpose(self.C), axes=1) + \\\n  File \"c:\\Users\\hazem\\anaconda3\\envs\\uvapp\\lib\\site-packages\\tensorflow\\python\\util\\traceback_utils.py\", line 150, in error_handler\n    return fn(*args, **kwargs)\n  File \"c:\\Users\\hazem\\anaconda3\\envs\\uvapp\\lib\\site-packages\\tensorflow\\python\\util\\dispatch.py\", line 1096, in op_dispatch_handler\n    return dispatch_target(*args, **kwargs)\n  File \"c:\\Users\\hazem\\anaconda3\\envs\\uvapp\\lib\\site-packages\\tensorflow\\python\\ops\\math_ops.py\", line 5089, in tensordot\n    ab_matmul = matmul(a_reshape, b_reshape)\n  File \"c:\\Users\\hazem\\anaconda3\\envs\\uvapp\\lib\\site-packages\\tensorflow\\python\\util\\traceback_utils.py\", line 150, in error_handler\n    return fn(*args, **kwargs)\n  File \"c:\\Users\\hazem\\anaconda3\\envs\\uvapp\\lib\\site-packages\\tensorflow\\python\\util\\dispatch.py\", line 1096, in op_dispatch_handler\n    return dispatch_target(*args, **kwargs)\n  File \"c:\\Users\\hazem\\anaconda3\\envs\\uvapp\\lib\\site-packages\\tensorflow\\python\\ops\\math_ops.py\", line 3700, in matmul\n    return gen_math_ops.mat_mul(\n  File \"c:\\Users\\hazem\\anaconda3\\envs\\uvapp\\lib\\site-packages\\tensorflow\\python\\ops\\gen_math_ops.py\", line 6033, in mat_mul\n    _, _, _op, _outputs = _op_def_library._apply_op_helper(\n  File \"c:\\Users\\hazem\\anaconda3\\envs\\uvapp\\lib\\site-packages\\tensorflow\\python\\framework\\op_def_library.py\", line 744, in _apply_op_helper\n    op = g._create_op_internal(op_type_name, inputs, dtypes=None,\n  File \"c:\\Users\\hazem\\anaconda3\\envs\\uvapp\\lib\\site-packages\\tensorflow\\python\\framework\\ops.py\", line 3697, in _create_op_internal\n    ret = Operation(\n  File \"c:\\Users\\hazem\\anaconda3\\envs\\uvapp\\lib\\site-packages\\tensorflow\\python\\framework\\ops.py\", line 2101, in __init__\n    self._traceback = tf_stack.extract_stack_for_node(self._c_op)\n"
     ]
    }
   ],
   "source": [
    "from mittens import Mittens\n",
    "\n",
    "mittens_model = Mittens(n=glove_dim, max_iter=9000)\n",
    "new_embeddings = mittens_model.fit(\n",
    "    coocc_ar,\n",
    "    vocab=max_Vocab,\n",
    "    initial_embedding_dict= pre_glove)"
   ]
  },
  {
   "cell_type": "code",
   "execution_count": null,
   "metadata": {},
   "outputs": [],
   "source": [
    "len (new_embeddings)"
   ]
  },
  {
   "cell_type": "code",
   "execution_count": null,
   "metadata": {},
   "outputs": [],
   "source": [
    "newglove = dict(zip(corp_vocab, new_embeddings))\n",
    "f = open(f\"./dataset/glove.6B/new_glove.6B.{glove_dim}d.pkl\",\"wb\")\n",
    "pickle.dump(newglove, f)\n",
    "f.close()"
   ]
  },
  {
   "cell_type": "code",
   "execution_count": null,
   "metadata": {},
   "outputs": [],
   "source": []
  }
 ],
 "metadata": {
  "interpreter": {
   "hash": "fefb53ccb8826f5d221933f4e956154857a1cf678d9c734061c64f9df1cd0fd7"
  },
  "kernelspec": {
   "display_name": "Python 3.9.12 ('uvapp')",
   "language": "python",
   "name": "python3"
  },
  "language_info": {
   "codemirror_mode": {
    "name": "ipython",
    "version": 3
   },
   "file_extension": ".py",
   "mimetype": "text/x-python",
   "name": "python",
   "nbconvert_exporter": "python",
   "pygments_lexer": "ipython3",
   "version": "3.9.12"
  },
  "orig_nbformat": 4
 },
 "nbformat": 4,
 "nbformat_minor": 2
}
