{
 "cells": [
  {
   "cell_type": "code",
   "execution_count": null,
   "metadata": {},
   "outputs": [],
   "source": [
    "import tensorflow as tf\n",
    "%load_ext autoreload\n",
    "%autoreload 2\n",
    "# You'll generate plots of attention in order to see which parts of an image\n",
    "# your model focuses on during captioning\n",
    "# from nltk.translate.bleu_score import corpus_bleu\n",
    "# from nltk.translate.meteor_score import meteor_score\n",
    "# from rouge import Rouge\n",
    "import numpy as np\n",
    "import matplotlib.pyplot as plt\n",
    "from PIL import Image\n",
    "import configparser\n",
    "from pycocotools.coco import COCO\n",
    "from pycocoevalcap.eval import COCOEvalCap\n",
    "import json\n",
    "\n",
    "config = configparser.ConfigParser()\n",
    "config.read(\"config.ini\")\n",
    "\n",
    "#importing local module \n",
    "from models.subclasses import *\n",
    "from models.utilities import *\n",
    "from models.predict import *\n",
    "from models.train_utils import *\n",
    "from models.evaluation_utils import *"
   ]
  },
  {
   "cell_type": "code",
   "execution_count": null,
   "metadata": {},
   "outputs": [],
   "source": [
    "loss_plot = load_loss()\n",
    "print(len(loss_plot))\n",
    "plt.plot(loss_plot[:300])\n",
    "plt.xlabel('Epochs')\n",
    "plt.ylabel('Loss')\n",
    "plt.title('Loss Plot')\n",
    "plt.show()"
   ]
  },
  {
   "cell_type": "code",
   "execution_count": null,
   "metadata": {},
   "outputs": [],
   "source": [
    "units = int(config['config']['units'])\n",
    "embedding_dim = int(config['config']['embedding_dim'])\n",
    "\n",
    "vocabulary_size = int(config['config']['vocabulary_size'])\n",
    "\n",
    "\n",
    "use_glove = bool(config['config']['use_glove'])\n",
    "glove_dim = int(config['config']['glove_dim'])"
   ]
  },
  {
   "cell_type": "code",
   "execution_count": null,
   "metadata": {},
   "outputs": [],
   "source": [
    "val_image_paths, image_path_to_caption_val = import_files(shuffle= False, method = \"val\")\n",
    "\n",
    "val_captions = []\n",
    "img_name_vector_val = []\n",
    "for image_path in val_image_paths:\n",
    "  caption_list = image_path_to_caption_val[image_path]\n",
    "  if len(caption_list)!=5:\n",
    "    caption_list = caption_list[:5]\n",
    "  val_captions.extend(caption_list)\n",
    "  img_name_vector_val.extend([image_path] * len(caption_list))"
   ]
  },
  {
   "cell_type": "code",
   "execution_count": null,
   "metadata": {},
   "outputs": [],
   "source": [
    "len(val_captions)"
   ]
  },
  {
   "cell_type": "code",
   "execution_count": null,
   "metadata": {},
   "outputs": [],
   "source": [
    "train_image_paths, image_path_to_caption_train = import_files(shuffle= False, method = \"train\")\n",
    "\n",
    "train_captions = []\n",
    "img_name_vector_train = []\n",
    "for image_path in train_image_paths:\n",
    "  caption_list = image_path_to_caption_train[image_path]\n",
    "  if len(caption_list)!=5:\n",
    "    caption_list = caption_list[:5]\n",
    "  train_captions.extend(caption_list)\n",
    "  img_name_vector_train.extend([image_path] * len(caption_list))"
   ]
  },
  {
   "cell_type": "code",
   "execution_count": null,
   "metadata": {},
   "outputs": [],
   "source": [
    "len(train_captions)"
   ]
  },
  {
   "cell_type": "code",
   "execution_count": null,
   "metadata": {},
   "outputs": [],
   "source": [
    "vocabulary= load_vocab()"
   ]
  },
  {
   "cell_type": "code",
   "execution_count": null,
   "metadata": {},
   "outputs": [],
   "source": [
    "word_to_index_val, index_to_word_val, tokenizer_val, cap_vector_val = tokenization(val_captions, max_length, vocabulary_size)"
   ]
  },
  {
   "cell_type": "code",
   "execution_count": null,
   "metadata": {},
   "outputs": [],
   "source": [
    "word_to_index_train, index_to_word_train, tokenizer_train, cap_vector_train = tokenization(train_captions, max_length, vocabulary_size)"
   ]
  },
  {
   "cell_type": "code",
   "execution_count": null,
   "metadata": {},
   "outputs": [],
   "source": [
    "embeddings_index = {}\n",
    "\n",
    "if use_glove:\n",
    "    new_glove_path = f\"./dataset/glove.6B/new_glove.6B.{glove_dim}d.pkl\"\n",
    "    tuned_glove = pickle.load(open(new_glove_path, \"rb\"))\n",
    "    len(tuned_glove)\n",
    "    glove_path = f\"./dataset/glove.6B/glove.6B.{glove_dim}d.txt\"\n",
    "\n",
    "    with open(glove_path, encoding=\"utf-8\") as f:\n",
    "        for line in f:\n",
    "            word, coefs = line.split(maxsplit=1)\n",
    "            coefs = np.fromstring(coefs, \"f\", sep=\" \")\n",
    "            embeddings_index[word] = coefs\n",
    "\n",
    "    embeddings_index.update(tuned_glove)\n",
    "\n",
    "    print(\"Found %s word vectors.\" % len(embeddings_index))\n",
    "\n",
    "    vocabulary = tokenizer_train.get_vocabulary()\n",
    "    word_index = dict(zip(vocabulary, range(len(vocabulary))))\n",
    "\n",
    "    num_tokens = len(vocabulary)\n",
    "    embedding_dim = 100\n",
    "    hits = 0\n",
    "    misses = 0\n",
    "\n",
    "    # Prepare embedding matrix\n",
    "    embedding_matrix = np.zeros((num_tokens, embedding_dim))\n",
    "    for word, i in word_index.items():\n",
    "        embedding_vector = embeddings_index.get(word)\n",
    "        if embedding_vector is not None:\n",
    "            # Words not found in embedding index will be all-zeros.\n",
    "            # This includes the representation for \"padding\" and \"OOV\"\n",
    "            embedding_matrix[i] = embedding_vector\n",
    "            hits += 1\n",
    "        else:\n",
    "            misses += 1\n",
    "    print(\"Converted %d words (%d misses)\" % (hits, misses))"
   ]
  },
  {
   "cell_type": "code",
   "execution_count": null,
   "metadata": {},
   "outputs": [],
   "source": [
    "encoder = CNN_Encoder(embedding_dim)\n",
    "if use_glove:\n",
    "    decoder = RNN_Decoder(embedding_dim, units, num_tokens, embedding_matrix)\n",
    "else:\n",
    "    decoder = RNN_Decoder(embedding_dim, units, tokenizer_train.vocabulary_size(), None)\n",
    "image_features_extract_model = get_feature_extractor()"
   ]
  },
  {
   "cell_type": "code",
   "execution_count": null,
   "metadata": {},
   "outputs": [],
   "source": [
    "img_name_val, cap_val = split_data(img_name_vector_val, cap_vector_val ,\n",
    "                                    image_features_extract_model, 1)"
   ]
  },
  {
   "cell_type": "code",
   "execution_count": null,
   "metadata": {},
   "outputs": [],
   "source": [
    "len(cap_vector_val)"
   ]
  },
  {
   "cell_type": "code",
   "execution_count": null,
   "metadata": {},
   "outputs": [],
   "source": [
    "optimizer = tf.keras.optimizers.Adam()\n",
    "loss_object = tf.keras.losses.SparseCategoricalCrossentropy(\n",
    "    from_logits=True, reduction='none')\n",
    "\n",
    "checkpoint_path = \"./checkpoints/train\"\n",
    "ckpt = tf.train.Checkpoint(encoder=encoder,\n",
    "                           decoder=decoder,\n",
    "                           optimizer=optimizer)\n",
    "ckpt_manager = tf.train.CheckpointManager(ckpt, checkpoint_path, max_to_keep=5)\n",
    "ckpt.restore(ckpt_manager.latest_checkpoint)"
   ]
  },
  {
   "cell_type": "code",
   "execution_count": null,
   "metadata": {},
   "outputs": [],
   "source": [
    "img_name_vector_val[0]"
   ]
  },
  {
   "cell_type": "code",
   "execution_count": null,
   "metadata": {},
   "outputs": [],
   "source": [
    "img_name_val[0]"
   ]
  },
  {
   "cell_type": "code",
   "execution_count": null,
   "metadata": {},
   "outputs": [],
   "source": [
    "def makeResultFile(img_name_vector_val, encoder, decoder,\n",
    "                   image_features_extract_model, word_to_index_train,\n",
    "                   index_to_word_train, percentage=1):\n",
    "\n",
    "    result_list = []\n",
    "    ImgIDs =[]\n",
    "    samples = (int)(len(img_name_vector_val) * percentage)\n",
    "    \n",
    "    for i in range(0, samples, 5):\n",
    "        id = img_name_vector_val[i].split(\"val2017\\\\\")[1].split(\".\")[0]\n",
    "        cap = predict(img_name_vector_val[i], encoder, decoder, image_features_extract_model,\n",
    "                      word_to_index_train, index_to_word_train)\n",
    "\n",
    "        if cap[-1] == \"<end>\":\n",
    "            cap.remove(\"<end>\")\n",
    "\n",
    "        cap = ' '.join(cap)\n",
    "        imid = int(id.lstrip('0'))\n",
    "        temp = {\"image_id\": imid, \"caption\": cap}\n",
    "\n",
    "        result_list.append(temp)\n",
    "        ImgIDs.append(imid)\n",
    "        \n",
    "    with open('dataset\\coco\\\\result\\\\result.json', 'w') as outfile:\n",
    "        json.dump(result_list, outfile, sort_keys=True)\n",
    "        \n",
    "\n",
    "    return result_list, ImgIDs"
   ]
  },
  {
   "cell_type": "code",
   "execution_count": null,
   "metadata": {},
   "outputs": [],
   "source": [
    "annotation_file = 'dataset\\coco\\\\val\\captions_val2017.json'\n",
    "results_file = 'dataset\\coco\\\\result\\\\result.json'\n",
    "\n",
    "if os.path.exists(results_file):\n",
    "    with open(results_file, 'r') as f:\n",
    "        result = json.load(f)\n",
    "else:\n",
    "    result_a , ImgIDs = makeResultFile(img_name_vector_val, encoder, decoder,\n",
    "                    image_features_extract_model, word_to_index_train,\n",
    "                    index_to_word_train, percentage = 0.2)"
   ]
  },
  {
   "cell_type": "code",
   "execution_count": null,
   "metadata": {},
   "outputs": [],
   "source": [
    "# create coco object and coco_result object\n",
    "coco = COCO(annotation_file)\n",
    "coco_result = coco.loadRes(results_file)\n",
    "\n",
    "# create coco_eval object by taking coco and coco_result\n",
    "coco_eval = COCOEvalCap(coco, coco_result, ImgIDs)\n",
    "\n",
    "coco_eval.evaluate()\n",
    "\n",
    "# print output evaluation scores\n",
    "for metric, score in coco_eval.eval.items():\n",
    "    print(f'{metric}: {score:.3f}')"
   ]
  },
  {
   "cell_type": "code",
   "execution_count": null,
   "metadata": {},
   "outputs": [],
   "source": [
    "def plot_attention2(image, result, attention_plot):\n",
    "    temp_image = np.array(Image.open(image))\n",
    "\n",
    "    fig = plt.figure(figsize=(20, 20))\n",
    "\n",
    "    len_result = len(result)\n",
    "    for i in range(len_result):\n",
    "        temp_att = np.resize(attention_plot[i], (8, 8))\n",
    "        grid_size = max(int(np.ceil(len_result/2)), 2)\n",
    "        ax = fig.add_subplot(grid_size, grid_size, i+1)\n",
    "        ax.set_title(result[i], backgroundcolor=\"white\")\n",
    "        img = ax.imshow(temp_image)\n",
    "        ax.imshow(temp_att, cmap='gray', alpha=0.6, extent=img.get_extent())\n",
    "\n",
    "    plt.tight_layout()\n",
    "    plt.show()"
   ]
  },
  {
   "cell_type": "code",
   "execution_count": null,
   "metadata": {},
   "outputs": [],
   "source": [
    "# captions on the validation set\n",
    "rid = np.random.randint(0, len(img_name_val))\n",
    "image = img_name_val[rid]\n",
    "real_caption = ' '.join([tf.compat.as_text(index_to_word_val(i).numpy())\n",
    "                         for i in cap_val[rid] if i not in [0]])\n",
    "\n",
    "result, attention_plot = evaluate(image, encoder, decoder, image_features_extract_model,\n",
    "                                    word_to_index_train, index_to_word_train)\n",
    "\n",
    "print('Real Caption:', real_caption)\n",
    "print('Prediction Caption:', ' '.join(result))\n",
    "plot_attention(image, result, attention_plot)"
   ]
  },
  {
   "cell_type": "code",
   "execution_count": null,
   "metadata": {},
   "outputs": [],
   "source": []
  }
 ],
 "metadata": {
  "interpreter": {
   "hash": "fefb53ccb8826f5d221933f4e956154857a1cf678d9c734061c64f9df1cd0fd7"
  },
  "kernelspec": {
   "display_name": "Python 3.9.12 ('uvapp')",
   "language": "python",
   "name": "python3"
  },
  "language_info": {
   "codemirror_mode": {
    "name": "ipython",
    "version": 3
   },
   "file_extension": ".py",
   "mimetype": "text/x-python",
   "name": "python",
   "nbconvert_exporter": "python",
   "pygments_lexer": "ipython3",
   "version": "3.9.12"
  },
  "orig_nbformat": 4
 },
 "nbformat": 4,
 "nbformat_minor": 2
}
