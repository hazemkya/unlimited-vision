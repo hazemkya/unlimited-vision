{
 "cells": [
  {
   "cell_type": "code",
   "execution_count": 1,
   "metadata": {},
   "outputs": [],
   "source": [
    "import tensorflow as tf\n",
    "\n",
    "# You'll generate plots of attention in order to see which parts of an image\n",
    "# your model focuses on during captioning\n",
    "from nltk.translate.bleu_score import corpus_bleu\n",
    "from nltk.util import ngrams\n",
    "import numpy as np\n",
    "from PIL import Image\n",
    "import configparser\n",
    "\n",
    "config = configparser.ConfigParser()\n",
    "config.read(\"config.ini\")\n",
    "\n",
    "#importing local module \n",
    "from models.subclasses import *\n",
    "from models.utilities import *\n",
    "from models.predict import *\n",
    "from models.train_utils import *\n"
   ]
  },
  {
   "cell_type": "code",
   "execution_count": 2,
   "metadata": {},
   "outputs": [
    {
     "data": {
      "image/png": "[encoded data removed]",
      "text/plain": [
       "<Figure size 432x288 with 1 Axes>"
      ]
     },
     "metadata": {
      "needs_background": "light"
     },
     "output_type": "display_data"
    }
   ],
   "source": [
    "loss_plot = load_loss()\n",
    "plt.plot(loss_plot)\n",
    "plt.xlabel('Epochs')\n",
    "plt.ylabel('Loss')\n",
    "plt.title('Loss Plot')\n",
    "plt.show()"
   ]
  },
  {
   "cell_type": "code",
   "execution_count": 3,
   "metadata": {},
   "outputs": [],
   "source": [
    "units = int(config['config']['units'])\n",
    "embedding_dim = int(config['config']['embedding_dim'])"
   ]
  },
  {
   "cell_type": "code",
   "execution_count": 4,
   "metadata": {},
   "outputs": [
    {
     "name": "stdout",
     "output_type": "stream",
     "text": [
      "100\n"
     ]
    }
   ],
   "source": [
    "val_image_paths, image_path_to_caption = import_files(shuffle= False, method = \"val\")\n",
    "\n",
    "val_captions = []\n",
    "img_name_vector = []\n",
    "for image_path in val_image_paths:\n",
    "  caption_list = image_path_to_caption[image_path]\n",
    "  val_captions.extend(caption_list)\n",
    "  img_name_vector.extend([image_path] * len(caption_list))"
   ]
  },
  {
   "cell_type": "code",
   "execution_count": 5,
   "metadata": {},
   "outputs": [],
   "source": [
    "_, _, vocabulary, _ = load_dataset()"
   ]
  },
  {
   "cell_type": "code",
   "execution_count": 6,
   "metadata": {},
   "outputs": [],
   "source": [
    "word_to_index, index_to_word, tokenizer, cap_vector = tokenization(val_captions, max_length, 5000)"
   ]
  },
  {
   "cell_type": "code",
   "execution_count": null,
   "metadata": {},
   "outputs": [],
   "source": [
    "glove_path = \"./dataset/glove.6B/glove.6B.50d.txt\"\n",
    "\n",
    "embeddings_index = {}\n",
    "with open(glove_path) as f:\n",
    "    for line in f:\n",
    "        word, coefs = line.split(maxsplit=1)\n",
    "        coefs = np.fromstring(coefs, \"f\", sep=\" \")\n",
    "        embeddings_index[word] = coefs\n",
    "\n",
    "print(\"Found %s word vectors.\" % len(embeddings_index))"
   ]
  },
  {
   "cell_type": "code",
   "execution_count": null,
   "metadata": {},
   "outputs": [],
   "source": [
    "vocabulary = tokenizer.get_vocabulary()\n",
    "word_index = dict(zip(vocabulary, range(len(vocabulary))))"
   ]
  },
  {
   "cell_type": "code",
   "execution_count": null,
   "metadata": {},
   "outputs": [],
   "source": [
    "num_tokens = len(vocabulary) + 2\n",
    "embedding_dim = 50\n",
    "hits = 0\n",
    "misses = 0\n",
    "\n",
    "# Prepare embedding matrix\n",
    "embedding_matrix = np.zeros((num_tokens, embedding_dim))\n",
    "for word, i in word_index.items():\n",
    "    embedding_vector = embeddings_index.get(word)\n",
    "    if embedding_vector is not None:\n",
    "        # Words not found in embedding index will be all-zeros.\n",
    "        # This includes the representation for \"padding\" and \"OOV\"\n",
    "        embedding_matrix[i] = embedding_vector\n",
    "        hits += 1\n",
    "    else:\n",
    "        misses += 1\n",
    "print(\"Converted %d words (%d misses)\" % (hits, misses))"
   ]
  },
  {
   "cell_type": "code",
   "execution_count": 7,
   "metadata": {},
   "outputs": [
    {
     "ename": "TypeError",
     "evalue": "__init__() missing 1 required positional argument: 'embedding_matrix'",
     "output_type": "error",
     "traceback": [
      "\u001b[1;31m---------------------------------------------------------------------------\u001b[0m",
      "\u001b[1;31mTypeError\u001b[0m                                 Traceback (most recent call last)",
      "\u001b[1;32mc:\\Users\\hazem\\Desktop\\collage\\Graduation project\\Unlimited vision app\\evaluation.ipynb Cell 7'\u001b[0m in \u001b[0;36m<cell line: 2>\u001b[1;34m()\u001b[0m\n\u001b[0;32m      <a href='vscode-notebook-cell:/c%3A/Users/hazem/Desktop/collage/Graduation%20project/Unlimited%20vision%20app/evaluation.ipynb#ch0000006?line=0'>1</a>\u001b[0m encoder \u001b[39m=\u001b[39m CNN_Encoder(embedding_dim)\n\u001b[1;32m----> <a href='vscode-notebook-cell:/c%3A/Users/hazem/Desktop/collage/Graduation%20project/Unlimited%20vision%20app/evaluation.ipynb#ch0000006?line=1'>2</a>\u001b[0m decoder \u001b[39m=\u001b[39m RNN_Decoder(embedding_dim, units, \u001b[39mlen\u001b[39;49m(vocabulary))\n\u001b[0;32m      <a href='vscode-notebook-cell:/c%3A/Users/hazem/Desktop/collage/Graduation%20project/Unlimited%20vision%20app/evaluation.ipynb#ch0000006?line=2'>3</a>\u001b[0m image_features_extract_model \u001b[39m=\u001b[39m get_feature_extractor()\n",
      "\u001b[1;31mTypeError\u001b[0m: __init__() missing 1 required positional argument: 'embedding_matrix'"
     ]
    }
   ],
   "source": [
    "encoder = CNN_Encoder(embedding_dim)\n",
    "if use_glove:\n",
    "    decoder = RNN_Decoder(embedding_dim, units, num_tokens, embedding_matrix)\n",
    "else:\n",
    "    decoder = RNN_Decoder(embedding_dim, units, tokenizer.vocabulary_size(), None)\n",
    "image_features_extract_model = get_feature_extractor()"
   ]
  },
  {
   "cell_type": "code",
   "execution_count": 9,
   "metadata": {},
   "outputs": [
    {
     "name": "stderr",
     "output_type": "stream",
     "text": [
      "100%|██████████| 4/4 [00:00<00:00,  8.05it/s]\n"
     ]
    }
   ],
   "source": [
    "img_name_val, cap_val = split_data(img_name_vector, cap_vector ,\n",
    "                                    image_features_extract_model, 1)"
   ]
  },
  {
   "cell_type": "code",
   "execution_count": 10,
   "metadata": {},
   "outputs": [
    {
     "data": {
      "text/plain": [
       "<tensorflow.python.training.tracking.util.CheckpointLoadStatus at 0x1f0c9bfe6d0>"
      ]
     },
     "execution_count": 10,
     "metadata": {},
     "output_type": "execute_result"
    }
   ],
   "source": [
    "optimizer = tf.keras.optimizers.Adam()\n",
    "loss_object = tf.keras.losses.SparseCategoricalCrossentropy(\n",
    "    from_logits=True, reduction='none')\n",
    "\n",
    "checkpoint_path = \"./checkpoints/train\"\n",
    "ckpt = tf.train.Checkpoint(encoder=encoder,\n",
    "                           decoder=decoder,\n",
    "                           optimizer=optimizer)\n",
    "ckpt_manager = tf.train.CheckpointManager(ckpt, checkpoint_path, max_to_keep=5)\n",
    "ckpt.restore(ckpt_manager.latest_checkpoint)"
   ]
  },
  {
   "cell_type": "code",
   "execution_count": 11,
   "metadata": {},
   "outputs": [],
   "source": [
    "references = []\n",
    "\n",
    "for i in range(len(img_name_val)):\n",
    "    references.append(' '.join([tf.compat.as_text(index_to_word(i).numpy())\n",
    "                         for i in cap_val[i] if i not in [0]]).split('<start>')[1].split())"
   ]
  },
  {
   "cell_type": "code",
   "execution_count": 12,
   "metadata": {},
   "outputs": [],
   "source": [
    "list_of_references = []\n",
    "\n",
    "for i in range(0, len(img_name_val), 4):\n",
    "    list_of_references.append([references[i:i+4]])"
   ]
  },
  {
   "cell_type": "code",
   "execution_count": 5,
   "metadata": {},
   "outputs": [
    {
     "ename": "NameError",
     "evalue": "name 'img_name_val' is not defined",
     "output_type": "error",
     "traceback": [
      "\u001b[1;31m---------------------------------------------------------------------------\u001b[0m",
      "\u001b[1;31mNameError\u001b[0m                                 Traceback (most recent call last)",
      "\u001b[1;32mc:\\Users\\hazem\\Desktop\\collage\\Graduation project\\Unlimited vision app\\evaluation.ipynb Cell 12'\u001b[0m in \u001b[0;36m<cell line: 6>\u001b[1;34m()\u001b[0m\n\u001b[0;32m      <a href='vscode-notebook-cell:/c%3A/Users/hazem/Desktop/collage/Graduation%20project/Unlimited%20vision%20app/evaluation.ipynb#ch0000011?line=0'>1</a>\u001b[0m \u001b[39m# captions on the test set\u001b[39;00m\n\u001b[0;32m      <a href='vscode-notebook-cell:/c%3A/Users/hazem/Desktop/collage/Graduation%20project/Unlimited%20vision%20app/evaluation.ipynb#ch0000011?line=1'>2</a>\u001b[0m \u001b[39m# rid = np.random.randint(0, len(img_name_val))\u001b[39;00m\n\u001b[0;32m      <a href='vscode-notebook-cell:/c%3A/Users/hazem/Desktop/collage/Graduation%20project/Unlimited%20vision%20app/evaluation.ipynb#ch0000011?line=2'>3</a>\u001b[0m \u001b[39m# image = img_name_val[rid]\u001b[39;00m\n\u001b[0;32m      <a href='vscode-notebook-cell:/c%3A/Users/hazem/Desktop/collage/Graduation%20project/Unlimited%20vision%20app/evaluation.ipynb#ch0000011?line=3'>4</a>\u001b[0m num \u001b[39m=\u001b[39m \u001b[39m7\u001b[39m\n\u001b[1;32m----> <a href='vscode-notebook-cell:/c%3A/Users/hazem/Desktop/collage/Graduation%20project/Unlimited%20vision%20app/evaluation.ipynb#ch0000011?line=5'>6</a>\u001b[0m image \u001b[39m=\u001b[39m img_name_val[num]\n\u001b[0;32m      <a href='vscode-notebook-cell:/c%3A/Users/hazem/Desktop/collage/Graduation%20project/Unlimited%20vision%20app/evaluation.ipynb#ch0000011?line=6'>7</a>\u001b[0m \u001b[39m# real_caption = ' '.join([tf.compat.as_text(index_to_word(i).numpy())\u001b[39;00m\n\u001b[0;32m      <a href='vscode-notebook-cell:/c%3A/Users/hazem/Desktop/collage/Graduation%20project/Unlimited%20vision%20app/evaluation.ipynb#ch0000011?line=7'>8</a>\u001b[0m \u001b[39m#                          for i in cap_val[rid] if i not in [0]]).split()\u001b[39;00m\n\u001b[0;32m     <a href='vscode-notebook-cell:/c%3A/Users/hazem/Desktop/collage/Graduation%20project/Unlimited%20vision%20app/evaluation.ipynb#ch0000011?line=9'>10</a>\u001b[0m result, attention_plot \u001b[39m=\u001b[39m evaluate(image, encoder, decoder, image_features_extract_model,\n\u001b[0;32m     <a href='vscode-notebook-cell:/c%3A/Users/hazem/Desktop/collage/Graduation%20project/Unlimited%20vision%20app/evaluation.ipynb#ch0000011?line=10'>11</a>\u001b[0m                                     word_to_index, index_to_word)\n",
      "\u001b[1;31mNameError\u001b[0m: name 'img_name_val' is not defined"
     ]
    }
   ],
   "source": [
    "# captions on the test set\n",
    "# rid = np.random.randint(0, len(img_name_val))\n",
    "# image = img_name_val[rid]\n",
    "num = 7\n",
    "\n",
    "image = img_name_val[num]\n",
    "# real_caption = ' '.join([tf.compat.as_text(index_to_word(i).numpy())\n",
    "#                          for i in cap_val[rid] if i not in [0]]).split()\n",
    "\n",
    "result, attention_plot = evaluate(image, encoder, decoder, image_features_extract_model,\n",
    "                                    word_to_index, index_to_word)\n",
    "\n",
    "if result[-1] == \"<end>\":\n",
    "    result.remove(\"<end>\")\n",
    "# if real_caption[0] == \"<start>\":\n",
    "#     real_caption.remove(\"<start>\")\n",
    "\n",
    "\n",
    "list_of_hypotheses = [result]\n",
    "\n",
    "print('Real Caption:', ' '.join(references[int(num/4)]))\n",
    "print('Prediction Caption:', ' '.join(result))\n",
    "print('BLEU-1: %f' % corpus_bleu(list_of_references[num], list_of_hypotheses, weights=(1.0, 0, 0, 0)))\n",
    "print('BLEU-2: %f' % corpus_bleu(list_of_references[num], list_of_hypotheses, weights=(0.5, 0.5, 0, 0)))\n",
    "print('BLEU-3: %f' % corpus_bleu(list_of_references[num], list_of_hypotheses, weights=(0.3, 0.3, 0.3, 0)))\n",
    "print('BLEU-4: %f' % corpus_bleu(list_of_references[num], list_of_hypotheses, weights=(0.25, 0.25, 0.25, 0.25)))\n",
    "plot_attention(image, result, attention_plot)"
   ]
  },
  {
   "cell_type": "code",
   "execution_count": null,
   "metadata": {},
   "outputs": [],
   "source": [
    "\n"
   ]
  },
  {
   "cell_type": "code",
   "execution_count": 22,
   "metadata": {},
   "outputs": [
    {
     "data": {
      "text/plain": [
       "['an',\n",
       " 'old',\n",
       " 'with',\n",
       " 'motorcycle',\n",
       " 'with',\n",
       " 'people',\n",
       " 'standing',\n",
       " 'beside',\n",
       " 'it.',\n",
       " '<end>']"
      ]
     },
     "execution_count": 22,
     "metadata": {},
     "output_type": "execute_result"
    }
   ],
   "source": [
    "references[int(num/4)]"
   ]
  },
  {
   "cell_type": "code",
   "execution_count": null,
   "metadata": {},
   "outputs": [],
   "source": []
  }
 ],
 "metadata": {
  "interpreter": {
   "hash": "a0855005469a133b1a4fed7e6a9d3300657ffc4061414113a9f065e922aa0ee4"
  },
  "kernelspec": {
   "display_name": "Python 3.9.12 ('uvapp')",
   "language": "python",
   "name": "python3"
  },
  "language_info": {
   "codemirror_mode": {
    "name": "ipython",
    "version": 3
   },
   "file_extension": ".py",
   "mimetype": "text/x-python",
   "name": "python",
   "nbconvert_exporter": "python",
   "pygments_lexer": "ipython3",
   "version": "3.9.12"
  },
  "orig_nbformat": 4
 },
 "nbformat": 4,
 "nbformat_minor": 2
}
