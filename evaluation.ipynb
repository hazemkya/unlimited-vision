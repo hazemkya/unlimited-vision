{
 "cells": [
  {
   "cell_type": "code",
   "execution_count": 1,
   "metadata": {},
   "outputs": [],
   "source": [
    "import tensorflow as tf\n",
    "\n",
    "# You'll generate plots of attention in order to see which parts of an image\n",
    "# your model focuses on during captioning\n",
    "# from nltk.translate.bleu_score import corpus_bleu\n",
    "# from nltk.translate.meteor_score import meteor_score\n",
    "# from rouge import Rouge\n",
    "import numpy as np\n",
    "from PIL import Image\n",
    "import configparser\n",
    "import re\n",
    "from pycocotools.coco import COCO\n",
    "from pycocoevalcap.eval import COCOEvalCap\n",
    "import json\n",
    "\n",
    "config = configparser.ConfigParser()\n",
    "config.read(\"config.ini\")\n",
    "\n",
    "#importing local module \n",
    "from models.subclasses import *\n",
    "from models.utilities import *\n",
    "from models.predict import *\n",
    "from models.train_utils import *\n",
    "from models.evaluation_utils import *\n"
   ]
  },
  {
   "cell_type": "code",
   "execution_count": 2,
   "metadata": {},
   "outputs": [
    {
     "name": "stdout",
     "output_type": "stream",
     "text": [
      "2\n"
     ]
    },
    {
     "data": {
      "image/png": "[encoded data removed]",
      "text/plain": [
       "<Figure size 432x288 with 1 Axes>"
      ]
     },
     "metadata": {
      "needs_background": "light"
     },
     "output_type": "display_data"
    }
   ],
   "source": [
    "loss_plot = load_loss()\n",
    "print(len(loss_plot))\n",
    "plt.plot(loss_plot)\n",
    "plt.xlabel('Epochs')\n",
    "plt.ylabel('Loss')\n",
    "plt.title('Loss Plot')\n",
    "plt.show()"
   ]
  },
  {
   "cell_type": "code",
   "execution_count": 3,
   "metadata": {},
   "outputs": [],
   "source": [
    "units = int(config['config']['units'])\n",
    "embedding_dim = int(config['config']['embedding_dim'])\n",
    "\n",
    "vocabulary_size = int(config['config']['vocabulary_size'])\n",
    "\n",
    "\n",
    "use_glove = bool(config['config']['use_glove'])\n",
    "glove_dim = int(config['config']['glove_dim'])"
   ]
  },
  {
   "cell_type": "code",
   "execution_count": 4,
   "metadata": {},
   "outputs": [
    {
     "name": "stdout",
     "output_type": "stream",
     "text": [
      "5000\n"
     ]
    }
   ],
   "source": [
    "val_image_paths, image_path_to_caption_val = import_files(shuffle= False, method = \"val\")\n",
    "\n",
    "val_captions = []\n",
    "img_name_vector_val = []\n",
    "for image_path in val_image_paths:\n",
    "  caption_list = image_path_to_caption_val[image_path]\n",
    "  if len(caption_list)!=5:\n",
    "    caption_list = caption_list[:5]\n",
    "  val_captions.extend(caption_list)\n",
    "  img_name_vector_val.extend([image_path] * len(caption_list))"
   ]
  },
  {
   "cell_type": "code",
   "execution_count": 5,
   "metadata": {},
   "outputs": [
    {
     "data": {
      "text/plain": [
       "25000"
      ]
     },
     "execution_count": 5,
     "metadata": {},
     "output_type": "execute_result"
    }
   ],
   "source": [
    "len(val_captions)"
   ]
  },
  {
   "cell_type": "code",
   "execution_count": 6,
   "metadata": {},
   "outputs": [
    {
     "name": "stdout",
     "output_type": "stream",
     "text": [
      "2000\n"
     ]
    }
   ],
   "source": [
    "train_image_paths, image_path_to_caption_train = import_files(shuffle= False, method = \"train\")\n",
    "\n",
    "train_captions = []\n",
    "img_name_vector_train = []\n",
    "for image_path in train_image_paths:\n",
    "  caption_list = image_path_to_caption_train[image_path]\n",
    "  if len(caption_list)!=5:\n",
    "    caption_list = caption_list[:5]\n",
    "  train_captions.extend(caption_list)\n",
    "  img_name_vector_train.extend([image_path] * len(caption_list))"
   ]
  },
  {
   "cell_type": "code",
   "execution_count": 7,
   "metadata": {},
   "outputs": [
    {
     "data": {
      "text/plain": [
       "10000"
      ]
     },
     "execution_count": 7,
     "metadata": {},
     "output_type": "execute_result"
    }
   ],
   "source": [
    "len(train_captions)"
   ]
  },
  {
   "cell_type": "code",
   "execution_count": 8,
   "metadata": {},
   "outputs": [],
   "source": [
    "_, _, vocabulary, _ = load_dataset()"
   ]
  },
  {
   "cell_type": "code",
   "execution_count": 9,
   "metadata": {},
   "outputs": [],
   "source": [
    "word_to_index_val, index_to_word_val, tokenizer_val, cap_vector_val = tokenization(val_captions, max_length, vocabulary_size)"
   ]
  },
  {
   "cell_type": "code",
   "execution_count": 10,
   "metadata": {},
   "outputs": [],
   "source": [
    "word_to_index_train, index_to_word_train, tokenizer_train, cap_vector_train = tokenization(train_captions, max_length, vocabulary_size)"
   ]
  },
  {
   "cell_type": "code",
   "execution_count": 11,
   "metadata": {},
   "outputs": [
    {
     "data": {
      "text/plain": [
       "1581"
      ]
     },
     "execution_count": 11,
     "metadata": {},
     "output_type": "execute_result"
    }
   ],
   "source": [
    "new_glove_path = f\"./dataset/glove.6B/new_glove.6B.{glove_dim}d.pkl\"\n",
    "tuned_glove = pickle.load(open(new_glove_path, \"rb\"))\n",
    "len(tuned_glove)"
   ]
  },
  {
   "cell_type": "code",
   "execution_count": 12,
   "metadata": {},
   "outputs": [
    {
     "name": "stdout",
     "output_type": "stream",
     "text": [
      "Found 401581 word vectors.\n",
      "Converted 4543 words (118 misses)\n"
     ]
    }
   ],
   "source": [
    "embeddings_index = {}\n",
    "\n",
    "if use_glove:\n",
    "    glove_path = f\"./dataset/glove.6B/glove.6B.{glove_dim}d.txt\"\n",
    "\n",
    "    with open(glove_path, encoding=\"utf-8\") as f:\n",
    "        for line in f:\n",
    "            word, coefs = line.split(maxsplit=1)\n",
    "            coefs = np.fromstring(coefs, \"f\", sep=\" \")\n",
    "            embeddings_index[word] = coefs\n",
    "\n",
    "    embeddings_index.update(tuned_glove)\n",
    "\n",
    "    print(\"Found %s word vectors.\" % len(embeddings_index))\n",
    "\n",
    "    vocabulary = tokenizer_train.get_vocabulary()\n",
    "    word_index = dict(zip(vocabulary, range(len(vocabulary))))\n",
    "\n",
    "    num_tokens = len(vocabulary) +2\n",
    "    embedding_dim = 100\n",
    "    hits = 0\n",
    "    misses = 0\n",
    "\n",
    "    # Prepare embedding matrix\n",
    "    embedding_matrix = np.zeros((num_tokens, embedding_dim))\n",
    "    for word, i in word_index.items():\n",
    "        embedding_vector = embeddings_index.get(word)\n",
    "        if embedding_vector is not None:\n",
    "            # Words not found in embedding index will be all-zeros.\n",
    "            # This includes the representation for \"padding\" and \"OOV\"\n",
    "            embedding_matrix[i] = embedding_vector\n",
    "            hits += 1\n",
    "        else:\n",
    "            misses += 1\n",
    "    print(\"Converted %d words (%d misses)\" % (hits, misses))"
   ]
  },
  {
   "cell_type": "code",
   "execution_count": 13,
   "metadata": {},
   "outputs": [],
   "source": [
    "encoder = CNN_Encoder(embedding_dim)\n",
    "if use_glove:\n",
    "    decoder = RNN_Decoder(embedding_dim, units, num_tokens, embedding_matrix)\n",
    "else:\n",
    "    decoder = RNN_Decoder(embedding_dim, units, tokenizer_train.vocabulary_size(), None)\n",
    "image_features_extract_model = get_feature_extractor()"
   ]
  },
  {
   "cell_type": "code",
   "execution_count": 14,
   "metadata": {},
   "outputs": [
    {
     "name": "stderr",
     "output_type": "stream",
     "text": [
      "100%|██████████| 157/157 [00:39<00:00,  3.97it/s]\n"
     ]
    }
   ],
   "source": [
    "img_name_val, cap_val = split_data(img_name_vector_val, cap_vector_val ,\n",
    "                                    image_features_extract_model, 1)"
   ]
  },
  {
   "cell_type": "code",
   "execution_count": 15,
   "metadata": {},
   "outputs": [
    {
     "data": {
      "text/plain": [
       "25000"
      ]
     },
     "execution_count": 15,
     "metadata": {},
     "output_type": "execute_result"
    }
   ],
   "source": [
    "len(cap_vector_val)"
   ]
  },
  {
   "cell_type": "code",
   "execution_count": 16,
   "metadata": {},
   "outputs": [
    {
     "data": {
      "text/plain": [
       "<tensorflow.python.training.tracking.util.CheckpointLoadStatus at 0x1d41b69c910>"
      ]
     },
     "execution_count": 16,
     "metadata": {},
     "output_type": "execute_result"
    }
   ],
   "source": [
    "optimizer = tf.keras.optimizers.Adam()\n",
    "loss_object = tf.keras.losses.SparseCategoricalCrossentropy(\n",
    "    from_logits=True, reduction='none')\n",
    "\n",
    "checkpoint_path = \"./checkpoints/train\"\n",
    "ckpt = tf.train.Checkpoint(encoder=encoder,\n",
    "                           decoder=decoder,\n",
    "                           optimizer=optimizer)\n",
    "ckpt_manager = tf.train.CheckpointManager(ckpt, checkpoint_path, max_to_keep=5)\n",
    "ckpt.restore(ckpt_manager.latest_checkpoint)"
   ]
  },
  {
   "cell_type": "code",
   "execution_count": 17,
   "metadata": {},
   "outputs": [],
   "source": [
    "# getHypotheses(img_name_val, encoder, decoder,\n",
    "#                     image_features_extract_model,word_to_index_train,\n",
    "#                     index_to_word_train)"
   ]
  },
  {
   "cell_type": "code",
   "execution_count": 18,
   "metadata": {},
   "outputs": [
    {
     "data": {
      "text/plain": [
       "25000"
      ]
     },
     "execution_count": 18,
     "metadata": {},
     "output_type": "execute_result"
    }
   ],
   "source": [
    "len(img_name_val)"
   ]
  },
  {
   "cell_type": "code",
   "execution_count": 19,
   "metadata": {},
   "outputs": [],
   "source": [
    "def makeResultFile(img_name_val, encoder, decoder,\n",
    "                  image_features_extract_model, word_to_index_train,\n",
    "                  index_to_word_train):\n",
    "\n",
    "    result_list = []\n",
    "    for i in range(0, len(img_name_val), 5):\n",
    "        id = img_name_vector_val[i].split(\"val2017\\\\\")[1].split(\".\")[0]\n",
    "        cap = predict(img_name_val[i], encoder, decoder, image_features_extract_model,\n",
    "                         word_to_index_train, index_to_word_train)\n",
    "        \n",
    "        if cap[-1] == \"<end>\":\n",
    "            cap.remove(\"<end>\")\n",
    "             \n",
    "        cap = ' '.join(cap)\n",
    "        \n",
    "        temp = {\"image_id\": int(id.lstrip('0')), \"caption\": cap}\n",
    "        \n",
    "        result_list.append(temp)\n",
    "    \n",
    "    with open('dataset\\coco\\\\result\\\\result.json', 'w') as outfile:\n",
    "        json.dump(result_list, outfile,sort_keys=True)\n",
    "    \n",
    "    return result_list"
   ]
  },
  {
   "cell_type": "code",
   "execution_count": 20,
   "metadata": {},
   "outputs": [],
   "source": [
    "annotation_file = 'dataset\\coco\\\\val\\captions_val2017.json'\n",
    "results_file = 'dataset\\coco\\\\result\\\\result.json'\n",
    "\n",
    "if os.path.exists(results_file):\n",
    "    with open(results_file, 'r') as f:\n",
    "        result = json.load(f)\n",
    "else:\n",
    "    result_a = makeResultFile(img_name_val, encoder, decoder,\n",
    "                    image_features_extract_model, word_to_index_train,\n",
    "                    index_to_word_train)"
   ]
  },
  {
   "cell_type": "code",
   "execution_count": 21,
   "metadata": {},
   "outputs": [
    {
     "name": "stdout",
     "output_type": "stream",
     "text": [
      "loading annotations into memory...\n",
      "Done (t=0.06s)\n",
      "creating index...\n",
      "index created!\n",
      "Loading and preparing results...\n",
      "DONE (t=0.19s)\n",
      "creating index...\n",
      "index created!\n",
      "tokenization...\n",
      "setting up scorers...\n",
      "computing Bleu score...\n",
      "{'testlen': 53817, 'reflen': 50921, 'guess': [53817, 48838, 43960, 39659], 'correct': [15268, 2255, 150, 19]}\n",
      "ratio: 1.0568724102040208\n",
      "Bleu_1: 0.284\n",
      "Bleu_2: 0.114\n",
      "Bleu_3: 0.035\n",
      "Bleu_4: 0.012\n",
      "computing METEOR score...\n",
      "METEOR: 0.068\n",
      "computing Rouge score...\n",
      "ROUGE_L: 0.202\n",
      "computing CIDEr score...\n",
      "CIDEr: 0.014\n",
      "computing SPICE score...\n",
      "SPICE: 0.013\n",
      "Bleu_1: 0.284\n",
      "Bleu_2: 0.114\n",
      "Bleu_3: 0.035\n",
      "Bleu_4: 0.012\n",
      "METEOR: 0.068\n",
      "ROUGE_L: 0.202\n",
      "CIDEr: 0.014\n",
      "SPICE: 0.013\n"
     ]
    }
   ],
   "source": [
    "# create coco object and coco_result object\n",
    "coco = COCO(annotation_file)\n",
    "coco_result = coco.loadRes(results_file)\n",
    "\n",
    "# create coco_eval object by taking coco and coco_result\n",
    "coco_eval = COCOEvalCap(coco, coco_result)\n",
    "\n",
    "coco_eval.evaluate()\n",
    "\n",
    "# print output evaluation scores\n",
    "for metric, score in coco_eval.eval.items():\n",
    "    print(f'{metric}: {score:.3f}')"
   ]
  },
  {
   "cell_type": "code",
   "execution_count": null,
   "metadata": {},
   "outputs": [],
   "source": []
  },
  {
   "cell_type": "code",
   "execution_count": null,
   "metadata": {},
   "outputs": [],
   "source": [
    "imgIds = coco_eval.params['image_id']"
   ]
  },
  {
   "cell_type": "code",
   "execution_count": null,
   "metadata": {},
   "outputs": [],
   "source": [
    "gts = {}\n",
    "res = {}\n",
    "for imgId in imgIds:\n",
    "    gts[imgId] = coco.imgToAnns[imgId]\n",
    "    res[imgId] = coco_result.imgToAnns[imgId]"
   ]
  },
  {
   "cell_type": "code",
   "execution_count": null,
   "metadata": {},
   "outputs": [],
   "source": [
    "from pycocoevalcap.tokenizer.ptbtokenizer import PTBTokenizer\n",
    "tokenizer = PTBTokenizer()\n",
    "gts  = tokenizer.tokenize(gts)\n",
    "res = tokenizer.tokenize(res)\n"
   ]
  },
  {
   "cell_type": "code",
   "execution_count": null,
   "metadata": {},
   "outputs": [],
   "source": [
    "print(gts.keys() - res.keys() )"
   ]
  },
  {
   "cell_type": "code",
   "execution_count": null,
   "metadata": {},
   "outputs": [],
   "source": [
    "len(gts.keys())"
   ]
  },
  {
   "cell_type": "code",
   "execution_count": null,
   "metadata": {},
   "outputs": [],
   "source": [
    "len(res.keys())"
   ]
  },
  {
   "cell_type": "code",
   "execution_count": null,
   "metadata": {},
   "outputs": [],
   "source": [
    "len(coco_result.imgToAnns[179765])"
   ]
  },
  {
   "cell_type": "code",
   "execution_count": null,
   "metadata": {},
   "outputs": [],
   "source": [
    "len(coco.imgToAnns[179765])"
   ]
  },
  {
   "cell_type": "code",
   "execution_count": null,
   "metadata": {},
   "outputs": [],
   "source": [
    "for id in imgIds:\n",
    "    hypo = res[id]\n",
    "    ref = gts[id]\n",
    "    # print(len(hypo))\n",
    "    if(len(hypo)!= 1):\n",
    "        print(len(hypo))\n",
    "        print(id)\n",
    "    # print(ref)\n",
    "    # break"
   ]
  },
  {
   "cell_type": "code",
   "execution_count": null,
   "metadata": {},
   "outputs": [],
   "source": []
  },
  {
   "cell_type": "code",
   "execution_count": null,
   "metadata": {},
   "outputs": [],
   "source": [
    "for i in range(10):\n",
    "    print(' '.join([tf.compat.as_text(index_to_word_val(j).numpy())\n",
    "                         for j in cap_val[i] if j not in [0]]).split('<start>')[1].split('<end>')[0])"
   ]
  },
  {
   "cell_type": "code",
   "execution_count": null,
   "metadata": {},
   "outputs": [],
   "source": [
    "references = []\n",
    "list_of_references = []\n",
    "\n",
    "for i in range(len(img_name_val)):\n",
    "    references.append(' '.join([tf.compat.as_text(index_to_word_val(j).numpy())\n",
    "                                for j in cap_val[i] if j not in [0]]).split('<start>')[1].split('<end>')[0])\n",
    "    \n",
    "for i in range(0, len(img_name_val), 5):\n",
    "    list_of_references.append(references[i:i+5])    "
   ]
  },
  {
   "cell_type": "code",
   "execution_count": null,
   "metadata": {},
   "outputs": [],
   "source": [
    "len(list_of_references)"
   ]
  },
  {
   "cell_type": "code",
   "execution_count": null,
   "metadata": {},
   "outputs": [],
   "source": [
    "len(cap_val)"
   ]
  },
  {
   "cell_type": "code",
   "execution_count": null,
   "metadata": {},
   "outputs": [],
   "source": [
    "references[5:10]"
   ]
  },
  {
   "cell_type": "code",
   "execution_count": null,
   "metadata": {},
   "outputs": [],
   "source": [
    "list_of_references[4]"
   ]
  },
  {
   "cell_type": "code",
   "execution_count": null,
   "metadata": {},
   "outputs": [],
   "source": [
    "len(references)"
   ]
  },
  {
   "cell_type": "code",
   "execution_count": null,
   "metadata": {},
   "outputs": [],
   "source": [
    "list_of_hypotheses = getHypotheses(img_name_val, encoder, decoder,\n",
    "                    image_features_extract_model,word_to_index_train,\n",
    "                    index_to_word_train)"
   ]
  },
  {
   "cell_type": "code",
   "execution_count": null,
   "metadata": {},
   "outputs": [],
   "source": [
    "len(list_of_hypotheses)"
   ]
  },
  {
   "cell_type": "code",
   "execution_count": null,
   "metadata": {},
   "outputs": [],
   "source": [
    "evaluate_all(len(img_name_val), list_of_references, list_of_hypotheses)"
   ]
  },
  {
   "cell_type": "code",
   "execution_count": null,
   "metadata": {},
   "outputs": [],
   "source": [
    "# captions on the test set\n",
    "# rid = np.random.randint(0, len(img_name_val))\n",
    "# image = img_name_val[rid]\n",
    "num = np.random.randint(0, len(img_name_val)/5)\n",
    "test_references = []\n",
    "for i in range(5):\n",
    "   test_references.append(list_of_references[num][i].split())\n",
    "\n",
    "image = img_name_val[num*5]\n",
    "# real_caption = ' '.join([tf.compat.as_text(index_to_word(i).numpy())\n",
    "#                          for i in cap_val[rid] if i not in [0]]).split()\n",
    "\n",
    "result, attention_plot = evaluate(image, encoder, decoder, image_features_extract_model,\n",
    "                                    word_to_index_train, index_to_word_train)\n",
    "\n",
    "if result[-1] == \"<end>\":\n",
    "    result.remove(\"<end>\")\n",
    "\n",
    "# if real_caption[0] == \"<start>\":\n",
    "#     real_caption.remove(\"<start>\")\n",
    "\n",
    "rouge = Rouge()\n",
    "list_of_hypotheses = [result]\n",
    "\n",
    "print('Real Caption:', list_of_references[num][0])\n",
    "print('Prediction Caption:', ' '.join(result))\n",
    "print('Meteor: %f' % meteor_score(test_references, result))\n",
    "print('Rouge: \\n', rouge.get_scores(refs=list_of_references[num][0], hyps=' '.join(result), avg=True))\n",
    "print('BLEU-1: %f' % corpus_bleu([test_references], list_of_hypotheses, weights=(1.0, 0, 0, 0)))\n",
    "print('BLEU-2: %f' % corpus_bleu([test_references], list_of_hypotheses, weights=(0.5, 0.5, 0, 0)))\n",
    "print('BLEU-3: %f' % corpus_bleu([test_references], list_of_hypotheses, weights=(0.3, 0.3, 0.3, 0)))\n",
    "print('BLEU-4: %f' % corpus_bleu([test_references], list_of_hypotheses, weights=(0.25, 0.25, 0.25, 0.25)))\n",
    "plot_attention(image, result, attention_plot)"
   ]
  }
 ],
 "metadata": {
  "interpreter": {
   "hash": "fefb53ccb8826f5d221933f4e956154857a1cf678d9c734061c64f9df1cd0fd7"
  },
  "kernelspec": {
   "display_name": "Python 3.9.12 ('uvapp')",
   "language": "python",
   "name": "python3"
  },
  "language_info": {
   "codemirror_mode": {
    "name": "ipython",
    "version": 3
   },
   "file_extension": ".py",
   "mimetype": "text/x-python",
   "name": "python",
   "nbconvert_exporter": "python",
   "pygments_lexer": "ipython3",
   "version": "3.9.12"
  },
  "orig_nbformat": 4
 },
 "nbformat": 4,
 "nbformat_minor": 2
}
