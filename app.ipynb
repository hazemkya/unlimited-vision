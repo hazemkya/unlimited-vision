{
 "cells": [
  {
   "cell_type": "code",
   "execution_count": 1,
   "metadata": {},
   "outputs": [],
   "source": [
    "import numpy as np\n",
    "import cv2\n",
    "from test import *"
   ]
  },
  {
   "cell_type": "code",
   "execution_count": 2,
   "metadata": {},
   "outputs": [],
   "source": [
    "# Static values\n",
    "PATH = 'testVideos/IMG_9367.MOV'\n",
    "\n",
    "#how many frame to play until pause\n",
    "SHOW_FRAME = 60\n"
   ]
  },
  {
   "cell_type": "code",
   "execution_count": 3,
   "metadata": {},
   "outputs": [],
   "source": [
    "def captionFrame(frame):\n",
    "    pass"
   ]
  },
  {
   "cell_type": "markdown",
   "metadata": {},
   "source": [
    "## Run the app"
   ]
  },
  {
   "cell_type": "code",
   "execution_count": 4,
   "metadata": {},
   "outputs": [
    {
     "name": "stdout",
     "output_type": "stream",
     "text": [
      "Statred capturing\n"
     ]
    }
   ],
   "source": [
    "#loop over all frames  'space' = next frame | 'q' = quit\n",
    "cap = cv2.VideoCapture(PATH)\n",
    "if (cap.isOpened()== False):\n",
    "    print(\"Error opening video stream or file\")\n",
    "else:\n",
    "    print(\"Statred capturing\")\n",
    "\n",
    "total_frames = 0\n",
    "while cap.isOpened():\n",
    "    HasFrames, frame = cap.read()\n",
    "    #if vidoe is not done do\n",
    "    if HasFrames:\n",
    "        total_frames += 1\n",
    "        cv2.imshow('Video', frame)\n",
    "        #when you reach the pause frame do\n",
    "        if((total_frames % SHOW_FRAME) == 0):\n",
    "            #Caption 'frame'\n",
    "            captionFrame(frame)\n",
    "            #press 'E' to get next frame\n",
    "            if(cv2.waitKey(5000) == ord('e')):\n",
    "                continue\n",
    "\n",
    "        if(cv2.waitKey(25) == ord('q')):\n",
    "            break    \n",
    "\n",
    "    else:\n",
    "        break\n",
    "\n",
    "cap.release()\n",
    "cv2.destroyAllWindows()"
   ]
  },
  {
   "cell_type": "code",
   "execution_count": null,
   "metadata": {},
   "outputs": [],
   "source": []
  }
 ],
 "metadata": {
  "interpreter": {
   "hash": "a0855005469a133b1a4fed7e6a9d3300657ffc4061414113a9f065e922aa0ee4"
  },
  "kernelspec": {
   "display_name": "Python 3.9.7 ('uvapp')",
   "language": "python",
   "name": "python3"
  },
  "language_info": {
   "codemirror_mode": {
    "name": "ipython",
    "version": 3
   },
   "file_extension": ".py",
   "mimetype": "text/x-python",
   "name": "python",
   "nbconvert_exporter": "python",
   "pygments_lexer": "ipython3",
   "version": "3.9.7"
  },
  "orig_nbformat": 4
 },
 "nbformat": 4,
 "nbformat_minor": 2
}
